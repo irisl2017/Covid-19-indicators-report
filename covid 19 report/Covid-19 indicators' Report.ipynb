{
 "cells": [
  {
   "cell_type": "markdown",
   "metadata": {},
   "source": [
    "# Introduction"
   ]
  },
  {
   "cell_type": "markdown",
   "metadata": {},
   "source": [
    "### Context:\n",
    "Coronavirus is affecting our daily activities, mental health, and livelihood. We all have to practice social distancing until we have contained the virus. Some areas in the world are efficient at containing it and are slowly moving back to normal such as Mainland China and Taiwan, while other areas are still experiencing huge increase in confirmed cases every day such as U.S. and Italy. We want to investigate the driving forces on the spread of the virus. Specifically, we tackle it from four pespectives: age demographics, economic indicators, healthcare indicators, and political indicators. \n",
    "\n",
    "### Research question: \n",
    "What are the most influenctial indicators of the spread of the virus?\n",
    "\n",
    "### Key findings:\n",
    "1. The growth rate of COVID-19 varies drastically between each 6 continents. Each continent took different number of days to flatten out the growth curve, but eventually all 6 have started to level off before 4/29/20.\n",
    "    - Asia was the fastest at leveling off the curve. It took 50 days to decrease the growth rate from 22% to 3%.\n",
    "    - North America was the slowest at leveling off the curve. It took 108 days to decrease the growth rate from 19% to 3%. \n",
    "2. The top 3 continents with the highest number to total confirmed cases are Europe, North America, and Asia. \n",
    "3. The top 3 influential indicators on the spread of COVID-19 are GDP, healthcare expenditure per capita, and population percentage of 5-14 age group.\n",
    "4. Political indicators measuring the timeliness, stringency, and intensity of government response all have really low rank correlation with the total confirmed cases per million."
   ]
  },
  {
   "cell_type": "markdown",
   "metadata": {},
   "source": [
    "# Data Description"
   ]
  },
  {
   "cell_type": "markdown",
   "metadata": {},
   "source": [
    "### 1. Total confirmed cases of COVID-19 data\n",
    "\n",
    "What are the observations (rows) and the attributes (columns)? \n",
    "- The observations are groups of populations in the world (divided by country, continent, region, and income level). The attributes are entity, code (alpha3 code of each country), date, and total confirmed cases. \n",
    "\n",
    "Why was this dataset created? Who funded the creation of the dataset? \n",
    "- The original dataset of “Total Confirmed cases of COVID-19” and “Total cases per million”, founded on Our World in Data, was collected and created by the European Center for Disease Prevention and Control (ECDC), who publishes daily statistics on COVID-19 from around the world.  This dataset is used to help public health professionals and healthcare providers monitor the spread of COVID-19 around the world and support better understanding of illness and disease severity associated with the disease.\n",
    "\n",
    "If people are involved, were they aware of the data collection and if so, what purpose did they expect the data to be used for?\n",
    "- In the data collection process, patients should be aware, to some extent, that results regarding their testing will be used for statistical means to better track the spread and status of the disease. \n",
    "\n",
    "What processes might have influenced what data was observed and recorded and what was not?\n",
    "- According to the WHO guidelines, cases of COVID-19 are broadly defined under three systems: suspected case, probable case, and confirmed case. Here, we use the data of confirmed cases, which are based on a positive laboratory confirmation of the test, because they have a higher degree of certainty and they provide standardized comparisons between countries. \n",
    "- The WHO and ECDC report case figures submitted by national governments and reporting institutions, who gather laboratory testing results form state, local, and territorial public health departments, and commercial laboratories.\n",
    "\n",
    "Identify any potential problems with your dataset.\n",
    "- Since each country has slightly different criteria for how cases are defined and reported, there might be some inaccuracy and discrepancy in the data presented. For example, the U.S. CDC only reported the daily number of confirmed cases until 14th April, and then it switched to reporting the sum of confirmed and probable cases. This transition in reporting method will potentially lead to inconsistency in the data, which might limit the significance of the analyses.\n",
    "\n",
    "What preprocessing was done, and how did the data come to be in the form that you are using?\n",
    "- Our World in Data preprocessed the data by standardizing names of countries and regions to its own standard entity names, and they also corrected or discarded inconsistencies detected in the original data. \n",
    "\n",
    "Where can your raw source data be found, if applicable? \n",
    "- https://github.com/owid/covid-19-data\n",
    "\n",
    "\n",
    "### 2. Age demographics data\n",
    "\n",
    "What are the observations (rows) and the attributes (columns)? ",
    "\n",
    "- Median Age (median-age.csv)\n",
    "    - There are four columns: entity, country code, year, the median age\n",
    "- Age breakdown (population-by-broad-age-group.csv)\n",
    "    - There are eight columns: entity, country code, year, under-5s, 15-24 years, 25-64 years, 65+ years, 5-14 years.\n",
    "    \n",
    "Why was this dataset created? Who funded the creation of the dataset?\n",
    "- The original dataset of median age and age breakdown, founded on Our World in Data, was prepared and created by the Population Division of the Department of Economic and Social Affairs of the United Nations Secretariat. \n",
    "\n",
    "If people are involved, were they aware of the data collection and if so, what purpose did they expect the data to be used for?\n",
    "- The principal data source related to median age and age breakdown was based on the information from 1,690 population and housing censuses for 235 countries or areas, including 236 censuses conducted since 2010. Participants were aware of the data collection and were acknowledged that the data they provided was one of the primary sources of data needed for formulating, implementing and monitoring policies and programs aimed at inclusive socioeconomic development and environmental sustainability.\n",
    "\n",
    "What processes might have influenced what data was observed and recorded and what was not? ",
    "\n",
    "- Most countries conduct a population census once per decade. In some countries, population registers based on administrative data systems are sufficiently well developed to serve as a basis for population estimates.\n",
    "\n",
    "Identify any potential problems with your dataset.\n",
    "- Some countries might not have a population census. Also, since the data are all self-reported, by filling out the census, there might be some discrepancy between real life situations and what is shown on the data. \n",
    "- I aimed to choose the latest data available, so I had median age data in the year of 2020, and age breakdown data in the year of 2015. There might be some inaccuracies when using the 2015 data, but since population demographics won’t have that big of a change in 5 years, it is considered acceptable in this case. \n",
    "\n",
    "What preprocessing was done, and how did the data come to be in the form that you are using?\n",
    "- The Population Division used the cohort-component method to ensure internal consistency by age and sex and over time, and between the three demographic components of change (fertility, mortality, and migration) and the enumerated population. The cohort-component method was also used to project population trends until 2100 using a variety of demographic assumptions concerning the components of population change.\n",
    "\n",
    "Where can your raw source data be found, if applicable? \n",
    "- https://population.un.org/wpp/Download/Standard/Population/\n",
    "\n",
    "\n",
    "### 3. Economics indicator data\n",
    "\n",
    "What are the observations (rows) and the attributes (columns)?\n",
    "- GDP per capita (API_NY.GDP.PCAP.PP.CD_DS2_en_csv_v2_988619.csv)\n",
    "    - The columns are country name, country code, indicator name, indicator code, and columns for each year from 1960 to 2019.\n",
    "- Unemployment (unemployment.csv)\n",
    "    - The columns are country name, country code, indicator name, indicator code, and columns for each year from 1960 to 2019.\n",
    "    \n",
    "Why was this dataset created? Who funded the creation of the dataset?\n",
    "- The original dataset of GDP per capita and unemployment were founded on The World Bank. At the World Bank, the Development Data Group, which works closely with the Bank’s regions and Global Practices, coordinates statistical and data work and maintains a number of macro, financial and sector databases. \n",
    "\n",
    "If people are involved, were they aware of the data collection and if so, what purpose did they expect the data to be used for?\n",
    "- People are aware that governments/organizations are collecting and analyzing data to calculate GDP and unemployment rate. These are common economic indicators, so people know that their data are the sources for measuring the well-being of the country.\n",
    "\n",
    "What processes might have influenced what data was observed and recorded and what was not?\n",
    "- Many factors affect data availability, reliability, and comparability. Statistical systems in many of the poorest countries are limited; statistical methods, coverage, practices, and definitions differ widely; and cross-country and intertemporal comparisons involve complex technical and conceptual problems that cannot be resolved unequivocally. Data relevant at the national level may not be suitable for standardized international use due to methodological concerns or the lack of clear documentation. \n",
    "\n",
    "Identify any potential problems with your dataset.\n",
    "- Delays in reporting data and the use of old surveys as the basis for current estimates may further compromise the quality of data reported. Data coverage may not be completed because of special circumstances affecting the collection and reporting of data, such as problems stemming from conflicts. \n",
    "- I aimed to choose the latest data available, so I had GDP data in the year of 2018, and unemployment data in the year of 2019. There might be some inconsistency between the years.\n",
    "\n",
    "What preprocessing was done, and how did the data come to be in the form that you are using?\n",
    "- The World Bank uses aggregation rules to compile it’s data. The aggregation rules are intended to yield estimates for a consistent set of economies from one period to the next and for all indicators. Small differences between sums of subgroup aggregates and overall totals and averages may occur because of the approximations used.\n",
    "- Details about the methodologies: https://datahelpdesk.worldbank.org/knowledgebase/articles/906531-methodologies \n",
    "\n",
    "Where can your raw source data be found, if applicable? \n",
    "- GDP: https://data.worldbank.org/indicator/NY.GDP.PCAP.PP.CD?end=2018&most_recent_value_desc=true&start=2018&view=map\n",
    "- Unemployment rate: https://data.worldbank.org/indicator/SL.UEM.TOTL.ZS?view=map\n",
    "\n",
    "\n",
    "### 4. Healthcare system indicator data\n",
    "\n",
    "What are the observations (rows) and the attributes (columns)? ",
    " \n",
    "- My dataset is consisted of 6 health system indicators (columns) among 264 countries (rows) , including number of hospital beds per 1000 people, health expenditure per capita, health expenditure out of pocket per capita, number of physicians per 1000 people, and people with basic hand-washing facilities including soap and water (% of population), and testing coverage (total tests per thousand).\n",
    "\n",
    "Why was this dataset created? Who funded the creation of the dataset?\n",
    "- First 5 sets of the original data were found on The World Dank and from World Health Organization's Global Health database, including rows—country name, country code, indicator name, indicator code, values of the indicators from 1960 to 2019, and an unnamed column. The rows represent information regarding each country. Testing coverage data was found on Our World in Data. The first 5 factors may be recorded to track each country's well-being of health system, while the testing coverage data has been closely monitored to record as well as facilitate covid-19 fighting progress.\n",
    "\n",
    "If people are involved, were they aware of the data collection and if so, what purpose did they expect the data to be used for?\n",
    "- The first 5 sets of data may be collected by governments as people are somewhat aware every year while testing coverage may be collected under people’s awareness during this pandemic. From the first 5 indicators we may access each country’s health system’s preparedness while testing coverage data may affect the reported confirmed rate in spite of the real confirmed rate. \n",
    "\n",
    "What preprocessing was done, and how did the data come to be in the form that you are using?\n",
    "- Preprocessing and processing procedures are similar to the aforementioned. \n",
    "\n",
    "What processes might have influenced what data was observed and recorded and what was not? Identify any potential problems of the dataset. \n",
    "- For the first 5 health indicators. I aimed to take the latest data on the basis of most countries included. Hence, I chose 2015 data for hospital beds and 2017 data for the other 4 factors. This, as a result, may lead to inaccuracy by overlooking some countries' health system improvements in the most recent years, but relative strength among countries regarding health systems should not vary vastly in such a short period of time, so our indicators are still useful for comparisons. In addition, we use testing coverage data on April 29 to parallel with the chosen date of confirmed rates. \n",
    "\n",
    "Where can your raw source data be found, if applicable? \n",
    "- https://docs.google.com/document/d/1GtycyIeDMVE-42pVjp4G0_oxVhCYK9Y41hz5bgb5dYU/edit?usp=sharing\n",
    "\n",
    "\n",
    "### 5. Political indicator data\n",
    "\n",
    "What are the observations (rows) and the attributes (columns)? ",
    " \n",
    "- My dataset is the Government Response Stringency Index, a composite measure based on nine response indicators including school closures, workplace closures, and travel bans, rescaled to a value from 0 to 100 (100 = strictest response) among 264 countries from January 22th to May 13th (rows).\n",
    "\n",
    "Why was this dataset created? Who funded the creation of the dataset?\n",
    "- This data was created to track the intensity of government response to covid-19 throughout time; by doing so we could closely monitored as well as facilitate covid-19 fighting progress. This data was found on Our World in Data. \n",
    "\n",
    "If people are involved, were they aware of the data collection and if so, what purpose did they expect the data to be used for?\n",
    "- This set of data is collected by scientists based on each country’s policy number and strictness in a timely manner. The data collection process may not involve people.\n",
    "- This data may be used to compare with the spread of covid-19 in each country so that we could learn better ways to contain the virus.\n",
    "\n",
    "What preprocessing was done, and how did the data come to be in the form that you are using?\n",
    "- Preprocessing and processing procedures are similar to the aforementioned. \n",
    "\n",
    "What processes might have influenced what data was observed and recorded and what was not? Identify any potential problems of the dataset. \n",
    "- Our World in Data preprocessed the data by standardizing names of countries and regions to its own standard entity names, and they also corrected or discarded inconsistencies detected in the original data. One potential problem could be the quantification of response extent. This might understate or overlook each country’s unmeasurable factors that will indirectly affect the effectiveness of government response, making the dataset less useful in producing powerful conclusions.\n",
    "\n",
    "Where can your raw source data be found, if applicable? \n",
    "- https://ourworldindata.org/grapher/covid-stringency-index"
   ]
  },
  {
   "cell_type": "markdown",
   "metadata": {},
   "source": [
    "# Data Analysis"
   ]
  },
  {
   "cell_type": "markdown",
   "metadata": {},
   "source": [
    "# Part 1. Comparing across continents\n",
    "\n",
    "In this section, we aim to visually display the daily total confirmed cases of COVID-19 from the beginning of the outbreak around 12/31/19 to 04/29/20 in each six continents. Then, we analyzed the data using summmary functions by computing the mean, standard deviation, and rate of increase in each continent. "
   ]
  },
  {
   "cell_type": "code",
   "execution_count": 5,
   "metadata": {
    "scrolled": false
   },
   "outputs": [],
   "source": [
    "import numpy as np\n",
    "import pandas as pd\n",
    "import matplotlib.pyplot as plt\n",
    "from sklearn.linear_model import LinearRegression"
   ]
  },
  {
   "cell_type": "code",
   "execution_count": 6,
   "metadata": {
    "scrolled": false
   },
   "outputs": [
    {
     "data": {
      "text/html": [
       "<div>\n",
       "<style scoped>\n",
       "    .dataframe tbody tr th:only-of-type {\n",
       "        vertical-align: middle;\n",
       "    }\n",
       "\n",
       "    .dataframe tbody tr th {\n",
       "        vertical-align: top;\n",
       "    }\n",
       "\n",
       "    .dataframe thead th {\n",
       "        text-align: right;\n",
       "    }\n",
       "</style>\n",
       "<table border=\"1\" class=\"dataframe\">\n",
       "  <thead>\n",
       "    <tr style=\"text-align: right;\">\n",
       "      <th></th>\n",
       "      <th>Unnamed: 0</th>\n",
       "      <th>Entity</th>\n",
       "      <th>Code</th>\n",
       "      <th>Date</th>\n",
       "      <th>Total_confirmed_cases</th>\n",
       "    </tr>\n",
       "  </thead>\n",
       "  <tbody>\n",
       "    <tr>\n",
       "      <td>0</td>\n",
       "      <td>545</td>\n",
       "      <td>Asia</td>\n",
       "      <td>NaN</td>\n",
       "      <td>31-Dec-19</td>\n",
       "      <td>27</td>\n",
       "    </tr>\n",
       "    <tr>\n",
       "      <td>1</td>\n",
       "      <td>546</td>\n",
       "      <td>Asia</td>\n",
       "      <td>NaN</td>\n",
       "      <td>1-Jan-20</td>\n",
       "      <td>27</td>\n",
       "    </tr>\n",
       "    <tr>\n",
       "      <td>2</td>\n",
       "      <td>547</td>\n",
       "      <td>Asia</td>\n",
       "      <td>NaN</td>\n",
       "      <td>2-Jan-20</td>\n",
       "      <td>27</td>\n",
       "    </tr>\n",
       "    <tr>\n",
       "      <td>3</td>\n",
       "      <td>548</td>\n",
       "      <td>Asia</td>\n",
       "      <td>NaN</td>\n",
       "      <td>3-Jan-20</td>\n",
       "      <td>44</td>\n",
       "    </tr>\n",
       "    <tr>\n",
       "      <td>4</td>\n",
       "      <td>549</td>\n",
       "      <td>Asia</td>\n",
       "      <td>NaN</td>\n",
       "      <td>4-Jan-20</td>\n",
       "      <td>44</td>\n",
       "    </tr>\n",
       "  </tbody>\n",
       "</table>\n",
       "</div>"
      ],
      "text/plain": [
       "   Unnamed: 0 Entity  Code       Date  Total_confirmed_cases\n",
       "0         545   Asia   NaN  31-Dec-19                     27\n",
       "1         546   Asia   NaN   1-Jan-20                     27\n",
       "2         547   Asia   NaN   2-Jan-20                     27\n",
       "3         548   Asia   NaN   3-Jan-20                     44\n",
       "4         549   Asia   NaN   4-Jan-20                     44"
      ]
     },
     "execution_count": 6,
     "metadata": {},
     "output_type": "execute_result"
    }
   ],
   "source": [
    "covid_continents = pd.read_csv(\"covid_continents.csv\")\n",
    "covid_continents.head()"
   ]
  },
  {
   "cell_type": "code",
   "execution_count": 7,
   "metadata": {
    "scrolled": false
   },
   "outputs": [
    {
     "data": {
      "text/html": [
       "<div>\n",
       "<style scoped>\n",
       "    .dataframe tbody tr th:only-of-type {\n",
       "        vertical-align: middle;\n",
       "    }\n",
       "\n",
       "    .dataframe tbody tr th {\n",
       "        vertical-align: top;\n",
       "    }\n",
       "\n",
       "    .dataframe thead th {\n",
       "        text-align: right;\n",
       "    }\n",
       "</style>\n",
       "<table border=\"1\" class=\"dataframe\">\n",
       "  <thead>\n",
       "    <tr style=\"text-align: right;\">\n",
       "      <th></th>\n",
       "      <th>Date</th>\n",
       "      <th>Total_confirmed_cases</th>\n",
       "      <th>Log_total_confirmed_cases</th>\n",
       "      <th>Daysafter</th>\n",
       "    </tr>\n",
       "    <tr>\n",
       "      <th>Continent</th>\n",
       "      <th></th>\n",
       "      <th></th>\n",
       "      <th></th>\n",
       "      <th></th>\n",
       "    </tr>\n",
       "  </thead>\n",
       "  <tbody>\n",
       "    <tr>\n",
       "      <td>Asia</td>\n",
       "      <td>2019-12-31</td>\n",
       "      <td>27</td>\n",
       "      <td>3.295837</td>\n",
       "      <td>0</td>\n",
       "    </tr>\n",
       "    <tr>\n",
       "      <td>Asia</td>\n",
       "      <td>2020-01-01</td>\n",
       "      <td>27</td>\n",
       "      <td>3.295837</td>\n",
       "      <td>1</td>\n",
       "    </tr>\n",
       "    <tr>\n",
       "      <td>Asia</td>\n",
       "      <td>2020-01-02</td>\n",
       "      <td>27</td>\n",
       "      <td>3.295837</td>\n",
       "      <td>2</td>\n",
       "    </tr>\n",
       "    <tr>\n",
       "      <td>Asia</td>\n",
       "      <td>2020-01-03</td>\n",
       "      <td>44</td>\n",
       "      <td>3.784190</td>\n",
       "      <td>3</td>\n",
       "    </tr>\n",
       "    <tr>\n",
       "      <td>Asia</td>\n",
       "      <td>2020-01-04</td>\n",
       "      <td>44</td>\n",
       "      <td>3.784190</td>\n",
       "      <td>4</td>\n",
       "    </tr>\n",
       "  </tbody>\n",
       "</table>\n",
       "</div>"
      ],
      "text/plain": [
       "                Date  Total_confirmed_cases  Log_total_confirmed_cases  \\\n",
       "Continent                                                                \n",
       "Asia      2019-12-31                     27                   3.295837   \n",
       "Asia      2020-01-01                     27                   3.295837   \n",
       "Asia      2020-01-02                     27                   3.295837   \n",
       "Asia      2020-01-03                     44                   3.784190   \n",
       "Asia      2020-01-04                     44                   3.784190   \n",
       "\n",
       "           Daysafter  \n",
       "Continent             \n",
       "Asia               0  \n",
       "Asia               1  \n",
       "Asia               2  \n",
       "Asia               3  \n",
       "Asia               4  "
      ]
     },
     "execution_count": 7,
     "metadata": {},
     "output_type": "execute_result"
    }
   ],
   "source": [
    "# Select wanted columns only\n",
    "covid_continents = covid_continents[['Entity', 'Date', 'Total_confirmed_cases']]\n",
    "\n",
    "# Rename the column \"Entity\" to \"Continent\"\n",
    "covid_continents = covid_continents.rename(columns = {'Entity': 'Continent'})\n",
    "\n",
    "# Set the column \"Continent\" as the index\n",
    "covid_continents.set_index('Continent', inplace=True, drop=True)\n",
    "\n",
    "# Compute the log of total confirmed cases and add the log column to df\n",
    "covid_continents[\"Log_total_confirmed_cases\"] = np.log(covid_continents.Total_confirmed_cases)\n",
    "\n",
    "# Convert date to number of days after 12/31/19 and add that column to df\n",
    "# Acknowledge Prof.Mimno's code\n",
    "covid_continents[\"Date\"] = pd.to_datetime(covid_continents[\"Date\"])\n",
    "start_date = pd.Timestamp(\"2019-12-31\")\n",
    "covid_continents[\"Daysafter\"] = (covid_continents[\"Date\"] - start_date).dt.days\n",
    "\n",
    "covid_continents.head()"
   ]
  },
  {
   "cell_type": "markdown",
   "metadata": {},
   "source": [
    "## Plot the total confirmed cases in 6 continents"
   ]
  },
  {
   "cell_type": "code",
   "execution_count": 8,
   "metadata": {
    "scrolled": false
   },
   "outputs": [
    {
     "data": {
      "image/png": "[encoded data removed]",
      "text/plain": [
       "<Figure size 720x432 with 1 Axes>"
      ]
     },
     "metadata": {
      "needs_background": "light"
     },
     "output_type": "display_data"
    }
   ],
   "source": [
    "plt.figure(figsize=(10,6))\n",
    "\n",
    "plt.plot(covid_continents.loc[\"Asia\"].Daysafter, covid_continents.loc[\"Asia\"].Total_confirmed_cases, label=\"Asia\")\n",
    "plt.plot(covid_continents.loc[\"North America\"].Daysafter, covid_continents.loc[\"North America\"].Total_confirmed_cases, label=\"North America\")\n",
    "plt.plot(covid_continents.loc[\"South America\"].Daysafter, covid_continents.loc[\"South America\"].Total_confirmed_cases, label=\"South America\")\n",
    "plt.plot(covid_continents.loc[\"Europe\"].Daysafter, covid_continents.loc[\"Europe\"].Total_confirmed_cases, label=\"Europe\")\n",
    "plt.plot(covid_continents.loc[\"Africa\"].Daysafter, covid_continents.loc[\"Africa\"].Total_confirmed_cases, label=\"Africa\")\n",
    "plt.plot(covid_continents.loc[\"Oceania\"].Daysafter, covid_continents.loc[\"Oceania\"].Total_confirmed_cases, label=\"Oceania\")\n",
    "\n",
    "plt.legend(loc=\"upper left\")\n",
    "plt.title(\"Total confirmed cases of COVID-19 vs. Number of days after outbreak\")\n",
    "plt.xlabel(\"Number of days after 12/31/19\")\n",
    "plt.ylabel(\"Total confirmed cases\")\n",
    "plt.show()"
   ]
  },
  {
   "cell_type": "markdown",
   "metadata": {},
   "source": [
    "According to the graph above, the rank order of the number of total confirmed cases of each continent from high to low is: \n",
    "1. Europe\n",
    "2. North America\n",
    "3. Asia\n",
    "4. South America\n",
    "5. Africa\n",
    "6. Oceania"
   ]
  },
  {
   "cell_type": "markdown",
   "metadata": {},
   "source": [
    "## Compare the rate of increase by computing the log of total confirmed cases in 6 continents \n",
    "\n",
    "Computing log transforms an exponential growth (i.e. pandemic) to a linear growth."
   ]
  },
  {
   "cell_type": "code",
   "execution_count": 9,
   "metadata": {
    "scrolled": false
   },
   "outputs": [
    {
     "data": {
      "image/png": "[encoded data removed]",
      "text/plain": [
       "<Figure size 720x432 with 1 Axes>"
      ]
     },
     "metadata": {
      "needs_background": "light"
     },
     "output_type": "display_data"
    }
   ],
   "source": [
    "plt.figure(figsize=(10,6))\n",
    "\n",
    "plt.plot(covid_continents.loc[\"Asia\"].Daysafter, covid_continents.loc[\"Asia\"].Log_total_confirmed_cases, label=\"Asia\")\n",
    "plt.plot(covid_continents.loc[\"North America\"].Daysafter, covid_continents.loc[\"North America\"].Log_total_confirmed_cases, label=\"North America\")\n",
    "plt.plot(covid_continents.loc[\"South America\"].Daysafter, covid_continents.loc[\"South America\"].Log_total_confirmed_cases, label=\"South America\")\n",
    "plt.plot(covid_continents.loc[\"Europe\"].Daysafter, covid_continents.loc[\"Europe\"].Log_total_confirmed_cases, label=\"Europe\")\n",
    "plt.plot(covid_continents.loc[\"Africa\"].Daysafter, covid_continents.loc[\"Africa\"].Log_total_confirmed_cases, label=\"Africa\")\n",
    "plt.plot(covid_continents.loc[\"Oceania\"].Daysafter, covid_continents.loc[\"Oceania\"].Log_total_confirmed_cases, label=\"Oceania\")\n",
    "\n",
    "plt.legend(loc=\"upper left\")\n",
    "plt.title(\"Log of total confirmed cases of COVID-19 vs. Number of days after outbreak\")\n",
    "plt.xlabel(\"Number of days after 12/31/19\")\n",
    "plt.ylabel(\"Log of total confirmed cases\")\n",
    "plt.show()"
   ]
  },
  {
   "cell_type": "markdown",
   "metadata": {},
   "source": [
    "According to the log graph above, we can see that the growth rate for each continent is drastically different. But, we see a general trend of an initial rapid outbreak followed by a flat period in the midlle, another increase (at a slwoer rate), and eventually reaching the plateau.   \n",
    "\n",
    "Next, we want to analyze the growth trend of each continent in detail.\n"
   ]
  },
  {
   "cell_type": "markdown",
   "metadata": {},
   "source": [
    "## Create a function that returns the number of initial cases and the growth rate up to a certain day"
   ]
  },
  {
   "cell_type": "code",
   "execution_count": 10,
   "metadata": {
    "scrolled": false
   },
   "outputs": [],
   "source": [
    "def summary(continent, day):\n",
    "    print(continent)\n",
    "    covid = covid_continents.loc[continent]\n",
    "    \n",
    "    # nested function that calculates the slope, coeficcient, and r^2 value\n",
    "    # Acknowledge Prof.Mimno's code\n",
    "    def lm(df, inputs, output):\n",
    "        model = LinearRegression().fit(df[inputs], df[output])\n",
    "        coef_strings = [\"{:.2f}\".format(coefficient) for coefficient in model.coef_]\n",
    "        r2_score = model.score(df[inputs], df[output])\n",
    "        print(\"coefficients: {} intercept: {:.2f};   r^2: {:.2f}\"\n",
    "              .format(\", \".join(coef_strings), model.intercept_, r2_score))\n",
    "        return model.intercept_, coef_strings[0]\n",
    "       \n",
    "    print(\"\\nBefore Day {}\".format(day))\n",
    "    model_before = lm(covid[ covid[\"Daysafter\"] < day], [\"Daysafter\"],\"Log_total_confirmed_cases\" )\n",
    "    print(\"initial cases: {:.1f}, growth rate: {:.0f}%\".format(np.exp(model_before[0]), 100 * (np.exp(float(model_before[1])) - 1)))\n",
    "    \n",
    "    print(\"\\nAfter Day {}\".format(day))\n",
    "    model_after = lm(covid[ covid[\"Daysafter\"] > day], [\"Daysafter\"],\"Log_total_confirmed_cases\" )\n",
    "    print(\"initial cases: {:.1f}, growth rate: {:.0f}%\".format(np.exp(model_after[0]), 100 * (np.exp(float(model_after[1])) - 1)))"
   ]
  },
  {
   "cell_type": "markdown",
   "metadata": {},
   "source": [
    "## Use trial and error to find out the number of days each continent took to flatten out the curve"
   ]
  },
  {
   "cell_type": "code",
   "execution_count": 11,
   "metadata": {
    "scrolled": false
   },
   "outputs": [
    {
     "name": "stdout",
     "output_type": "stream",
     "text": [
      "Asia\n",
      "\n",
      "Before Day 50\n",
      "coefficients: 0.20 intercept: 2.35;   r^2: 0.95\n",
      "initial cases: 10.5, growth rate: 22%\n",
      "\n",
      "After Day 50\n",
      "coefficients: 0.03 intercept: 9.47;   r^2: 0.96\n",
      "initial cases: 12921.4, growth rate: 3%\n"
     ]
    }
   ],
   "source": [
    "summary(\"Asia\", 50)"
   ]
  },
  {
   "cell_type": "code",
   "execution_count": 12,
   "metadata": {
    "scrolled": false
   },
   "outputs": [
    {
     "name": "stdout",
     "output_type": "stream",
     "text": [
      "Africa\n",
      "\n",
      "Before Day 95\n",
      "coefficients: 0.22 intercept: -11.39;   r^2: 0.98\n",
      "initial cases: 0.0, growth rate: 25%\n",
      "\n",
      "After Day 95\n",
      "coefficients: 0.06 intercept: 3.47;   r^2: 1.00\n",
      "initial cases: 32.2, growth rate: 6%\n"
     ]
    }
   ],
   "source": [
    "summary(\"Africa\", 95)"
   ]
  },
  {
   "cell_type": "code",
   "execution_count": 13,
   "metadata": {
    "scrolled": false
   },
   "outputs": [
    {
     "name": "stdout",
     "output_type": "stream",
     "text": [
      "Europe\n",
      "\n",
      "Before Day 93\n",
      "coefficients: 0.19 intercept: -4.20;   r^2: 0.96\n",
      "initial cases: 0.0, growth rate: 21%\n",
      "\n",
      "After Day 93\n",
      "coefficients: 0.03 intercept: 10.13;   r^2: 0.97\n",
      "initial cases: 24990.1, growth rate: 3%\n"
     ]
    }
   ],
   "source": [
    "summary(\"Europe\", 93)"
   ]
  },
  {
   "cell_type": "code",
   "execution_count": 14,
   "metadata": {
    "scrolled": false
   },
   "outputs": [
    {
     "name": "stdout",
     "output_type": "stream",
     "text": [
      "North America\n",
      "\n",
      "Before Day 108\n",
      "coefficients: 0.17 intercept: -4.11;   r^2: 0.96\n",
      "initial cases: 0.0, growth rate: 19%\n",
      "\n",
      "After Day 108\n",
      "coefficients: 0.03 intercept: 9.81;   r^2: 1.00\n",
      "initial cases: 18223.6, growth rate: 3%\n"
     ]
    }
   ],
   "source": [
    "summary(\"North America\", 108)"
   ]
  },
  {
   "cell_type": "code",
   "execution_count": 15,
   "metadata": {
    "scrolled": false
   },
   "outputs": [
    {
     "name": "stdout",
     "output_type": "stream",
     "text": [
      "South America\n",
      "\n",
      "Before Day 83\n",
      "coefficients: 0.34 intercept: -19.22;   r^2: 0.99\n",
      "initial cases: 0.0, growth rate: 40%\n",
      "\n",
      "After Day 83\n",
      "coefficients: 0.09 intercept: 1.12;   r^2: 0.98\n",
      "initial cases: 3.1, growth rate: 9%\n"
     ]
    }
   ],
   "source": [
    "summary(\"South America\", 83)"
   ]
  },
  {
   "cell_type": "code",
   "execution_count": 16,
   "metadata": {
    "scrolled": true
   },
   "outputs": [
    {
     "name": "stdout",
     "output_type": "stream",
     "text": [
      "Oceania\n",
      "\n",
      "Before Day 105\n",
      "coefficients: 0.11 intercept: -2.24;   r^2: 0.93\n",
      "initial cases: 0.1, growth rate: 12%\n",
      "\n",
      "After Day 105\n",
      "coefficients: 0.00 intercept: 8.61;   r^2: 0.94\n",
      "initial cases: 5469.6, growth rate: 0%\n"
     ]
    }
   ],
   "source": [
    "summary(\"Oceania\", 105)"
   ]
  },
  {
   "cell_type": "markdown",
   "metadata": {},
   "source": [
    "A higher number of days needed to flatten out the curve means a continents' slower response to the outbreak. According to the results above, the rank order of the number of days each continent took to flatten out the curve from high to low is:\n",
    "1. North America\n",
    "2. Oceania\n",
    "3. Africa\n",
    "4. Europe\n",
    "5. South America\n",
    "6. Oceania"
   ]
  },
  {
   "cell_type": "markdown",
   "metadata": {},
   "source": [
    "# Part 2. Comparing across countries\n",
    "\n",
    "We found out that the three countinents with the highest total confirmed cases are Europe, North America, and Asia. Next, we want to analyze specific countries within each continent and determine what factors have the most influence on the spread of COVID-19. To do so, we will pick the top 10 countries with the highest total confirmed cases in each continent. Together, we will be comparing across 30 countries. "
   ]
  },
  {
   "cell_type": "code",
   "execution_count": 17,
   "metadata": {
    "scrolled": false
   },
   "outputs": [
    {
     "data": {
      "text/html": [
       "<div>\n",
       "<style scoped>\n",
       "    .dataframe tbody tr th:only-of-type {\n",
       "        vertical-align: middle;\n",
       "    }\n",
       "\n",
       "    .dataframe tbody tr th {\n",
       "        vertical-align: top;\n",
       "    }\n",
       "\n",
       "    .dataframe thead th {\n",
       "        text-align: right;\n",
       "    }\n",
       "</style>\n",
       "<table border=\"1\" class=\"dataframe\">\n",
       "  <thead>\n",
       "    <tr style=\"text-align: right;\">\n",
       "      <th></th>\n",
       "      <th>Entity</th>\n",
       "      <th>Code</th>\n",
       "      <th>Date</th>\n",
       "      <th>Total_confirmed_cases</th>\n",
       "      <th>Continent</th>\n",
       "    </tr>\n",
       "  </thead>\n",
       "  <tbody>\n",
       "    <tr>\n",
       "      <td>0</td>\n",
       "      <td>Afghanistan</td>\n",
       "      <td>AFG</td>\n",
       "      <td>29-Apr-20</td>\n",
       "      <td>1827</td>\n",
       "      <td>AS</td>\n",
       "    </tr>\n",
       "    <tr>\n",
       "      <td>1</td>\n",
       "      <td>Albania</td>\n",
       "      <td>ALB</td>\n",
       "      <td>29-Apr-20</td>\n",
       "      <td>750</td>\n",
       "      <td>EU</td>\n",
       "    </tr>\n",
       "    <tr>\n",
       "      <td>2</td>\n",
       "      <td>Algeria</td>\n",
       "      <td>DZA</td>\n",
       "      <td>29-Apr-20</td>\n",
       "      <td>3649</td>\n",
       "      <td>AF</td>\n",
       "    </tr>\n",
       "    <tr>\n",
       "      <td>3</td>\n",
       "      <td>Andorra</td>\n",
       "      <td>AND</td>\n",
       "      <td>29-Apr-20</td>\n",
       "      <td>748</td>\n",
       "      <td>EU</td>\n",
       "    </tr>\n",
       "    <tr>\n",
       "      <td>4</td>\n",
       "      <td>Angola</td>\n",
       "      <td>AGO</td>\n",
       "      <td>29-Apr-20</td>\n",
       "      <td>27</td>\n",
       "      <td>AF</td>\n",
       "    </tr>\n",
       "  </tbody>\n",
       "</table>\n",
       "</div>"
      ],
      "text/plain": [
       "        Entity Code       Date  Total_confirmed_cases Continent\n",
       "0  Afghanistan  AFG  29-Apr-20                   1827        AS\n",
       "1      Albania  ALB  29-Apr-20                    750        EU\n",
       "2      Algeria  DZA  29-Apr-20                   3649        AF\n",
       "3      Andorra  AND  29-Apr-20                    748        EU\n",
       "4       Angola  AGO  29-Apr-20                     27        AF"
      ]
     },
     "execution_count": 17,
     "metadata": {},
     "output_type": "execute_result"
    }
   ],
   "source": [
    "countries_0429 = pd.read_csv(\"countries_0429.csv\", keep_default_na=False)\n",
    "countries_0429.drop(countries_0429.columns[0],axis=1,inplace=True)\n",
    "countries_0429.head()"
   ]
  },
  {
   "cell_type": "code",
   "execution_count": 18,
   "metadata": {
    "scrolled": true
   },
   "outputs": [
    {
     "data": {
      "text/html": [
       "<div>\n",
       "<style scoped>\n",
       "    .dataframe tbody tr th:only-of-type {\n",
       "        vertical-align: middle;\n",
       "    }\n",
       "\n",
       "    .dataframe tbody tr th {\n",
       "        vertical-align: top;\n",
       "    }\n",
       "\n",
       "    .dataframe thead th {\n",
       "        text-align: right;\n",
       "    }\n",
       "</style>\n",
       "<table border=\"1\" class=\"dataframe\">\n",
       "  <thead>\n",
       "    <tr style=\"text-align: right;\">\n",
       "      <th></th>\n",
       "      <th>Country Name</th>\n",
       "      <th>Date</th>\n",
       "      <th>Continent</th>\n",
       "      <th>Total_confirmed_cases</th>\n",
       "      <th>Log_total_confirmed_cases</th>\n",
       "    </tr>\n",
       "  </thead>\n",
       "  <tbody>\n",
       "    <tr>\n",
       "      <td>0</td>\n",
       "      <td>Afghanistan</td>\n",
       "      <td>29-Apr-20</td>\n",
       "      <td>AS</td>\n",
       "      <td>1827</td>\n",
       "      <td>7.510431</td>\n",
       "    </tr>\n",
       "    <tr>\n",
       "      <td>1</td>\n",
       "      <td>Albania</td>\n",
       "      <td>29-Apr-20</td>\n",
       "      <td>EU</td>\n",
       "      <td>750</td>\n",
       "      <td>6.620073</td>\n",
       "    </tr>\n",
       "    <tr>\n",
       "      <td>2</td>\n",
       "      <td>Algeria</td>\n",
       "      <td>29-Apr-20</td>\n",
       "      <td>AF</td>\n",
       "      <td>3649</td>\n",
       "      <td>8.202208</td>\n",
       "    </tr>\n",
       "    <tr>\n",
       "      <td>3</td>\n",
       "      <td>Andorra</td>\n",
       "      <td>29-Apr-20</td>\n",
       "      <td>EU</td>\n",
       "      <td>748</td>\n",
       "      <td>6.617403</td>\n",
       "    </tr>\n",
       "    <tr>\n",
       "      <td>4</td>\n",
       "      <td>Angola</td>\n",
       "      <td>29-Apr-20</td>\n",
       "      <td>AF</td>\n",
       "      <td>27</td>\n",
       "      <td>3.295837</td>\n",
       "    </tr>\n",
       "  </tbody>\n",
       "</table>\n",
       "</div>"
      ],
      "text/plain": [
       "  Country Name       Date Continent  Total_confirmed_cases  \\\n",
       "0  Afghanistan  29-Apr-20        AS                   1827   \n",
       "1      Albania  29-Apr-20        EU                    750   \n",
       "2      Algeria  29-Apr-20        AF                   3649   \n",
       "3      Andorra  29-Apr-20        EU                    748   \n",
       "4       Angola  29-Apr-20        AF                     27   \n",
       "\n",
       "   Log_total_confirmed_cases  \n",
       "0                   7.510431  \n",
       "1                   6.620073  \n",
       "2                   8.202208  \n",
       "3                   6.617403  \n",
       "4                   3.295837  "
      ]
     },
     "execution_count": 18,
     "metadata": {},
     "output_type": "execute_result"
    }
   ],
   "source": [
    "# Select wanted columns only\n",
    "countries_0429 = countries_0429[['Entity', 'Date', 'Continent','Total_confirmed_cases']]\n",
    "countries_0429 = pd.DataFrame(data=countries_0429)\n",
    "\n",
    "# Rename the column \"Entity\" to \"Continent\"\n",
    "countries_0429 = countries_0429.rename(columns = {'Entity': 'Country Name'})\n",
    "\n",
    "# Compute the log of total confirmed cases and add the log column to df\n",
    "countries_0429[\"Log_total_confirmed_cases\"] = np.log(countries_0429.Total_confirmed_cases)\n",
    "\n",
    "countries_0429.head()"
   ]
  },
  {
   "cell_type": "markdown",
   "metadata": {},
   "source": [
    "## 2.1 Compare the mean, standard deviation, and total confirmed cases of each continent"
   ]
  },
  {
   "cell_type": "markdown",
   "metadata": {},
   "source": [
    "### Create three dataframes of all the countries in Europe, North America, and Asia"
   ]
  },
  {
   "cell_type": "code",
   "execution_count": 19,
   "metadata": {
    "scrolled": false
   },
   "outputs": [],
   "source": [
    "europe = pd.DataFrame()\n",
    "north_america = pd.DataFrame()\n",
    "asia = pd.DataFrame()\n",
    "\n",
    "for i in range(len(countries_0429)):\n",
    "    if countries_0429.iloc[i].Continent == 'EU':\n",
    "        europe = europe.append(countries_0429.iloc[i])\n",
    "    if countries_0429.iloc[i].Continent == 'NA':\n",
    "        north_america = north_america.append(countries_0429.iloc[i])\n",
    "    if countries_0429.iloc[i].Continent == 'AS':\n",
    "        asia = asia.append(countries_0429.iloc[i])\n"
   ]
  },
  {
   "cell_type": "markdown",
   "metadata": {},
   "source": [
    "### Europe"
   ]
  },
  {
   "cell_type": "code",
   "execution_count": 20,
   "metadata": {
    "scrolled": true
   },
   "outputs": [
    {
     "name": "stdout",
     "output_type": "stream",
     "text": [
      "mean of total confirmed cases: 22323\n",
      "standard deviation of total confirmed cases: 46101.39\n"
     ]
    },
    {
     "data": {
      "text/html": [
       "<div>\n",
       "<style scoped>\n",
       "    .dataframe tbody tr th:only-of-type {\n",
       "        vertical-align: middle;\n",
       "    }\n",
       "\n",
       "    .dataframe tbody tr th {\n",
       "        vertical-align: top;\n",
       "    }\n",
       "\n",
       "    .dataframe thead th {\n",
       "        text-align: right;\n",
       "    }\n",
       "</style>\n",
       "<table border=\"1\" class=\"dataframe\">\n",
       "  <thead>\n",
       "    <tr style=\"text-align: right;\">\n",
       "      <th></th>\n",
       "      <th>Continent</th>\n",
       "      <th>Country Name</th>\n",
       "      <th>Date</th>\n",
       "      <th>Log_total_confirmed_cases</th>\n",
       "      <th>Total_confirmed_cases</th>\n",
       "    </tr>\n",
       "  </thead>\n",
       "  <tbody>\n",
       "    <tr>\n",
       "      <td>94</td>\n",
       "      <td>EU</td>\n",
       "      <td>Italy</td>\n",
       "      <td>29-Apr-20</td>\n",
       "      <td>12.213569</td>\n",
       "      <td>201505.0</td>\n",
       "    </tr>\n",
       "    <tr>\n",
       "      <td>190</td>\n",
       "      <td>EU</td>\n",
       "      <td>United Kingdom</td>\n",
       "      <td>29-Apr-20</td>\n",
       "      <td>11.990060</td>\n",
       "      <td>161145.0</td>\n",
       "    </tr>\n",
       "    <tr>\n",
       "      <td>71</td>\n",
       "      <td>EU</td>\n",
       "      <td>Germany</td>\n",
       "      <td>29-Apr-20</td>\n",
       "      <td>11.968076</td>\n",
       "      <td>157641.0</td>\n",
       "    </tr>\n",
       "    <tr>\n",
       "      <td>66</td>\n",
       "      <td>EU</td>\n",
       "      <td>France</td>\n",
       "      <td>29-Apr-20</td>\n",
       "      <td>11.750642</td>\n",
       "      <td>126835.0</td>\n",
       "    </tr>\n",
       "    <tr>\n",
       "      <td>153</td>\n",
       "      <td>EU</td>\n",
       "      <td>Russia</td>\n",
       "      <td>29-Apr-20</td>\n",
       "      <td>11.446337</td>\n",
       "      <td>93558.0</td>\n",
       "    </tr>\n",
       "    <tr>\n",
       "      <td>18</td>\n",
       "      <td>EU</td>\n",
       "      <td>Belgium</td>\n",
       "      <td>29-Apr-20</td>\n",
       "      <td>10.764984</td>\n",
       "      <td>47334.0</td>\n",
       "    </tr>\n",
       "    <tr>\n",
       "      <td>132</td>\n",
       "      <td>EU</td>\n",
       "      <td>Netherlands</td>\n",
       "      <td>29-Apr-20</td>\n",
       "      <td>10.556229</td>\n",
       "      <td>38416.0</td>\n",
       "    </tr>\n",
       "    <tr>\n",
       "      <td>177</td>\n",
       "      <td>EU</td>\n",
       "      <td>Switzerland</td>\n",
       "      <td>29-Apr-20</td>\n",
       "      <td>10.281273</td>\n",
       "      <td>29181.0</td>\n",
       "    </tr>\n",
       "    <tr>\n",
       "      <td>149</td>\n",
       "      <td>EU</td>\n",
       "      <td>Portugal</td>\n",
       "      <td>29-Apr-20</td>\n",
       "      <td>10.099137</td>\n",
       "      <td>24322.0</td>\n",
       "    </tr>\n",
       "    <tr>\n",
       "      <td>91</td>\n",
       "      <td>EU</td>\n",
       "      <td>Ireland</td>\n",
       "      <td>29-Apr-20</td>\n",
       "      <td>9.897319</td>\n",
       "      <td>19877.0</td>\n",
       "    </tr>\n",
       "  </tbody>\n",
       "</table>\n",
       "</div>"
      ],
      "text/plain": [
       "    Continent    Country Name       Date  Log_total_confirmed_cases  \\\n",
       "94         EU           Italy  29-Apr-20                  12.213569   \n",
       "190        EU  United Kingdom  29-Apr-20                  11.990060   \n",
       "71         EU         Germany  29-Apr-20                  11.968076   \n",
       "66         EU          France  29-Apr-20                  11.750642   \n",
       "153        EU          Russia  29-Apr-20                  11.446337   \n",
       "18         EU         Belgium  29-Apr-20                  10.764984   \n",
       "132        EU     Netherlands  29-Apr-20                  10.556229   \n",
       "177        EU     Switzerland  29-Apr-20                  10.281273   \n",
       "149        EU        Portugal  29-Apr-20                  10.099137   \n",
       "91         EU         Ireland  29-Apr-20                   9.897319   \n",
       "\n",
       "     Total_confirmed_cases  \n",
       "94                201505.0  \n",
       "190               161145.0  \n",
       "71                157641.0  \n",
       "66                126835.0  \n",
       "153                93558.0  \n",
       "18                 47334.0  \n",
       "132                38416.0  \n",
       "177                29181.0  \n",
       "149                24322.0  \n",
       "91                 19877.0  "
      ]
     },
     "execution_count": 20,
     "metadata": {},
     "output_type": "execute_result"
    }
   ],
   "source": [
    "# Compute the mean and standard deviation of the total confirmed cases in Europe\n",
    "print(\"mean of total confirmed cases: {:.0f}\".format(np.mean(europe.Total_confirmed_cases)))\n",
    "print(\"standard deviation of total confirmed cases: {:.2f}\".format(np.std(europe.Total_confirmed_cases)))\n",
    "\n",
    "# Print the top 10 countries in North America with the highest total confirmed cases\n",
    "eu_10=europe.nlargest(10, ['Total_confirmed_cases'])['Country Name'] #top 10 countries ranked by total confirmed cases  \n",
    "europe.nlargest(10, ['Total_confirmed_cases'])\n"
   ]
  },
  {
   "cell_type": "markdown",
   "metadata": {},
   "source": [
    "### North America"
   ]
  },
  {
   "cell_type": "code",
   "execution_count": 21,
   "metadata": {
    "scrolled": false
   },
   "outputs": [
    {
     "name": "stdout",
     "output_type": "stream",
     "text": [
      "mean of total confirmed cases: 32306\n",
      "standard deviation of total confirmed cases: 170871.99\n"
     ]
    },
    {
     "data": {
      "text/html": [
       "<div>\n",
       "<style scoped>\n",
       "    .dataframe tbody tr th:only-of-type {\n",
       "        vertical-align: middle;\n",
       "    }\n",
       "\n",
       "    .dataframe tbody tr th {\n",
       "        vertical-align: top;\n",
       "    }\n",
       "\n",
       "    .dataframe thead th {\n",
       "        text-align: right;\n",
       "    }\n",
       "</style>\n",
       "<table border=\"1\" class=\"dataframe\">\n",
       "  <thead>\n",
       "    <tr style=\"text-align: right;\">\n",
       "      <th></th>\n",
       "      <th>Continent</th>\n",
       "      <th>Country Name</th>\n",
       "      <th>Date</th>\n",
       "      <th>Log_total_confirmed_cases</th>\n",
       "      <th>Total_confirmed_cases</th>\n",
       "    </tr>\n",
       "  </thead>\n",
       "  <tbody>\n",
       "    <tr>\n",
       "      <td>191</td>\n",
       "      <td>NA</td>\n",
       "      <td>United States</td>\n",
       "      <td>29-Apr-20</td>\n",
       "      <td>13.828015</td>\n",
       "      <td>1012583.0</td>\n",
       "    </tr>\n",
       "    <tr>\n",
       "      <td>34</td>\n",
       "      <td>NA</td>\n",
       "      <td>Canada</td>\n",
       "      <td>29-Apr-20</td>\n",
       "      <td>10.820078</td>\n",
       "      <td>50015.0</td>\n",
       "    </tr>\n",
       "    <tr>\n",
       "      <td>121</td>\n",
       "      <td>NA</td>\n",
       "      <td>Mexico</td>\n",
       "      <td>29-Apr-20</td>\n",
       "      <td>9.726273</td>\n",
       "      <td>16752.0</td>\n",
       "    </tr>\n",
       "    <tr>\n",
       "      <td>54</td>\n",
       "      <td>NA</td>\n",
       "      <td>Dominican Republic</td>\n",
       "      <td>29-Apr-20</td>\n",
       "      <td>8.766550</td>\n",
       "      <td>6416.0</td>\n",
       "    </tr>\n",
       "    <tr>\n",
       "      <td>143</td>\n",
       "      <td>NA</td>\n",
       "      <td>Panama</td>\n",
       "      <td>29-Apr-20</td>\n",
       "      <td>8.732305</td>\n",
       "      <td>6200.0</td>\n",
       "    </tr>\n",
       "    <tr>\n",
       "      <td>46</td>\n",
       "      <td>NA</td>\n",
       "      <td>Cuba</td>\n",
       "      <td>29-Apr-20</td>\n",
       "      <td>7.270313</td>\n",
       "      <td>1437.0</td>\n",
       "    </tr>\n",
       "    <tr>\n",
       "      <td>150</td>\n",
       "      <td>NA</td>\n",
       "      <td>Puerto Rico</td>\n",
       "      <td>29-Apr-20</td>\n",
       "      <td>7.244228</td>\n",
       "      <td>1400.0</td>\n",
       "    </tr>\n",
       "    <tr>\n",
       "      <td>84</td>\n",
       "      <td>NA</td>\n",
       "      <td>Honduras</td>\n",
       "      <td>29-Apr-20</td>\n",
       "      <td>6.603944</td>\n",
       "      <td>738.0</td>\n",
       "    </tr>\n",
       "    <tr>\n",
       "      <td>43</td>\n",
       "      <td>NA</td>\n",
       "      <td>Costa Rica</td>\n",
       "      <td>29-Apr-20</td>\n",
       "      <td>6.558198</td>\n",
       "      <td>705.0</td>\n",
       "    </tr>\n",
       "    <tr>\n",
       "      <td>78</td>\n",
       "      <td>NA</td>\n",
       "      <td>Guatemala</td>\n",
       "      <td>29-Apr-20</td>\n",
       "      <td>6.322565</td>\n",
       "      <td>557.0</td>\n",
       "    </tr>\n",
       "  </tbody>\n",
       "</table>\n",
       "</div>"
      ],
      "text/plain": [
       "    Continent        Country Name       Date  Log_total_confirmed_cases  \\\n",
       "191        NA       United States  29-Apr-20                  13.828015   \n",
       "34         NA              Canada  29-Apr-20                  10.820078   \n",
       "121        NA              Mexico  29-Apr-20                   9.726273   \n",
       "54         NA  Dominican Republic  29-Apr-20                   8.766550   \n",
       "143        NA              Panama  29-Apr-20                   8.732305   \n",
       "46         NA                Cuba  29-Apr-20                   7.270313   \n",
       "150        NA         Puerto Rico  29-Apr-20                   7.244228   \n",
       "84         NA            Honduras  29-Apr-20                   6.603944   \n",
       "43         NA          Costa Rica  29-Apr-20                   6.558198   \n",
       "78         NA           Guatemala  29-Apr-20                   6.322565   \n",
       "\n",
       "     Total_confirmed_cases  \n",
       "191              1012583.0  \n",
       "34                 50015.0  \n",
       "121                16752.0  \n",
       "54                  6416.0  \n",
       "143                 6200.0  \n",
       "46                  1437.0  \n",
       "150                 1400.0  \n",
       "84                   738.0  \n",
       "43                   705.0  \n",
       "78                   557.0  "
      ]
     },
     "execution_count": 21,
     "metadata": {},
     "output_type": "execute_result"
    }
   ],
   "source": [
    "# Compute the mean and standard deviation of the total confirmed cases in North America\n",
    "print(\"mean of total confirmed cases: {:.0f}\".format(np.mean(north_america.Total_confirmed_cases)))\n",
    "print(\"standard deviation of total confirmed cases: {:.2f}\".format(np.std(north_america.Total_confirmed_cases)))\n",
    "\n",
    "# Print the top 10 countries in North America with the highest total confirmed cases\n",
    "na_10=north_america.nlargest(10, ['Total_confirmed_cases'])['Country Name']\n",
    "north_america.nlargest(10, ['Total_confirmed_cases'])"
   ]
  },
  {
   "cell_type": "markdown",
   "metadata": {},
   "source": [
    "### Asia"
   ]
  },
  {
   "cell_type": "code",
   "execution_count": 22,
   "metadata": {
    "scrolled": false
   },
   "outputs": [
    {
     "name": "stdout",
     "output_type": "stream",
     "text": [
      "mean of total confirmed cases: 11005\n",
      "standard deviation of total confirmed cases: 24155.86\n"
     ]
    },
    {
     "data": {
      "text/html": [
       "<div>\n",
       "<style scoped>\n",
       "    .dataframe tbody tr th:only-of-type {\n",
       "        vertical-align: middle;\n",
       "    }\n",
       "\n",
       "    .dataframe tbody tr th {\n",
       "        vertical-align: top;\n",
       "    }\n",
       "\n",
       "    .dataframe thead th {\n",
       "        text-align: right;\n",
       "    }\n",
       "</style>\n",
       "<table border=\"1\" class=\"dataframe\">\n",
       "  <thead>\n",
       "    <tr style=\"text-align: right;\">\n",
       "      <th></th>\n",
       "      <th>Continent</th>\n",
       "      <th>Country Name</th>\n",
       "      <th>Date</th>\n",
       "      <th>Log_total_confirmed_cases</th>\n",
       "      <th>Total_confirmed_cases</th>\n",
       "    </tr>\n",
       "  </thead>\n",
       "  <tbody>\n",
       "    <tr>\n",
       "      <td>185</td>\n",
       "      <td>AS</td>\n",
       "      <td>Turkey</td>\n",
       "      <td>29-Apr-20</td>\n",
       "      <td>11.649665</td>\n",
       "      <td>114653.0</td>\n",
       "    </tr>\n",
       "    <tr>\n",
       "      <td>89</td>\n",
       "      <td>AS</td>\n",
       "      <td>Iran</td>\n",
       "      <td>29-Apr-20</td>\n",
       "      <td>11.435872</td>\n",
       "      <td>92584.0</td>\n",
       "    </tr>\n",
       "    <tr>\n",
       "      <td>40</td>\n",
       "      <td>AS</td>\n",
       "      <td>China</td>\n",
       "      <td>29-Apr-20</td>\n",
       "      <td>11.337858</td>\n",
       "      <td>83940.0</td>\n",
       "    </tr>\n",
       "    <tr>\n",
       "      <td>87</td>\n",
       "      <td>AS</td>\n",
       "      <td>India</td>\n",
       "      <td>29-Apr-20</td>\n",
       "      <td>10.352395</td>\n",
       "      <td>31332.0</td>\n",
       "    </tr>\n",
       "    <tr>\n",
       "      <td>160</td>\n",
       "      <td>AS</td>\n",
       "      <td>Saudi Arabia</td>\n",
       "      <td>29-Apr-20</td>\n",
       "      <td>9.907330</td>\n",
       "      <td>20077.0</td>\n",
       "    </tr>\n",
       "    <tr>\n",
       "      <td>93</td>\n",
       "      <td>AS</td>\n",
       "      <td>Israel</td>\n",
       "      <td>29-Apr-20</td>\n",
       "      <td>9.654321</td>\n",
       "      <td>15589.0</td>\n",
       "    </tr>\n",
       "    <tr>\n",
       "      <td>165</td>\n",
       "      <td>AS</td>\n",
       "      <td>Singapore</td>\n",
       "      <td>29-Apr-20</td>\n",
       "      <td>9.612533</td>\n",
       "      <td>14951.0</td>\n",
       "    </tr>\n",
       "    <tr>\n",
       "      <td>141</td>\n",
       "      <td>AS</td>\n",
       "      <td>Pakistan</td>\n",
       "      <td>29-Apr-20</td>\n",
       "      <td>9.608109</td>\n",
       "      <td>14885.0</td>\n",
       "    </tr>\n",
       "    <tr>\n",
       "      <td>96</td>\n",
       "      <td>AS</td>\n",
       "      <td>Japan</td>\n",
       "      <td>29-Apr-20</td>\n",
       "      <td>9.536185</td>\n",
       "      <td>13852.0</td>\n",
       "    </tr>\n",
       "    <tr>\n",
       "      <td>151</td>\n",
       "      <td>AS</td>\n",
       "      <td>Qatar</td>\n",
       "      <td>29-Apr-20</td>\n",
       "      <td>9.386057</td>\n",
       "      <td>11921.0</td>\n",
       "    </tr>\n",
       "  </tbody>\n",
       "</table>\n",
       "</div>"
      ],
      "text/plain": [
       "    Continent  Country Name       Date  Log_total_confirmed_cases  \\\n",
       "185        AS        Turkey  29-Apr-20                  11.649665   \n",
       "89         AS          Iran  29-Apr-20                  11.435872   \n",
       "40         AS         China  29-Apr-20                  11.337858   \n",
       "87         AS         India  29-Apr-20                  10.352395   \n",
       "160        AS  Saudi Arabia  29-Apr-20                   9.907330   \n",
       "93         AS        Israel  29-Apr-20                   9.654321   \n",
       "165        AS     Singapore  29-Apr-20                   9.612533   \n",
       "141        AS      Pakistan  29-Apr-20                   9.608109   \n",
       "96         AS         Japan  29-Apr-20                   9.536185   \n",
       "151        AS         Qatar  29-Apr-20                   9.386057   \n",
       "\n",
       "     Total_confirmed_cases  \n",
       "185               114653.0  \n",
       "89                 92584.0  \n",
       "40                 83940.0  \n",
       "87                 31332.0  \n",
       "160                20077.0  \n",
       "93                 15589.0  \n",
       "165                14951.0  \n",
       "141                14885.0  \n",
       "96                 13852.0  \n",
       "151                11921.0  "
      ]
     },
     "execution_count": 22,
     "metadata": {},
     "output_type": "execute_result"
    }
   ],
   "source": [
    "# Compute the mean and standard deviation of the total confirmed cases in Asia\n",
    "print(\"mean of total confirmed cases: {:.0f}\".format(np.mean(asia.Total_confirmed_cases)))\n",
    "print(\"standard deviation of total confirmed cases: {:.2f}\".format(np.std(asia.Total_confirmed_cases)))\n",
    "\n",
    "# Print the top 10 countries in Asia with the highest total confirmed cases\n",
    "asia_10=asia.nlargest(10, ['Total_confirmed_cases'])['Country Name']\n",
    "asia.nlargest(10, ['Total_confirmed_cases'])"
   ]
  },
  {
   "cell_type": "markdown",
   "metadata": {},
   "source": [
    "## Compile the total confirmed cases, mean, and standard deviation into a grouped bar chart"
   ]
  },
  {
   "cell_type": "code",
   "execution_count": 23,
   "metadata": {
    "scrolled": true
   },
   "outputs": [
    {
     "data": {
      "image/png": "[encoded data removed]",
      "text/plain": [
       "<Figure size 432x288 with 1 Axes>"
      ]
     },
     "metadata": {
      "needs_background": "light"
     },
     "output_type": "display_data"
    }
   ],
   "source": [
    "EU = [covid_continents.loc[\"Europe\"].Total_confirmed_cases.max(), np.mean(europe.Total_confirmed_cases),\n",
    "          np.std(europe.Total_confirmed_cases)]\n",
    "NA = [covid_continents.loc[\"North America\"].Total_confirmed_cases.max(), np.mean(north_america.Total_confirmed_cases), \n",
    "        np.std(north_america.Total_confirmed_cases)]\n",
    "AS = [covid_continents.loc[\"Asia\"].Total_confirmed_cases.max(), np.mean(asia.Total_confirmed_cases),\n",
    "      np.std(asia.Total_confirmed_cases)]\n",
    "\n",
    "barWidth = 0.25\n",
    "r1 = np.arange(len(EU))\n",
    "r2 = [x + barWidth for x in r1]\n",
    "r3 = [x + barWidth for x in r2]\n",
    " \n",
    "plt.bar(r1, EU, color='darksalmon', width=barWidth, edgecolor='white', label='Europe')\n",
    "plt.bar(r2, NA, color='firebrick', width=barWidth, edgecolor='white', label='North America')\n",
    "plt.bar(r3, AS, color='slategrey', width=barWidth, edgecolor='white', label='Asia')\n",
    " \n",
    "plt.xticks([r + barWidth for r in range(len(EU))], ['Total Confirmed Cases', 'Mean', 'Standard Deviation'])\n",
    "plt.legend()\n",
    "plt.show()\n"
   ]
  },
  {
   "cell_type": "markdown",
   "metadata": {},
   "source": [
    "As shown in the grouped bar chart above, North America has the second highest total confirmed cases, but it has the highest mean and standard deviation. This indicates variability between countries in North America. The data points (total confirmed cases) for countries in North America are more spread out over a larger range of values. A possible explanation is that some countries like the United States, Canada, and Mexico have extremely high total confirmed cases comparing to the rest, which increased the standard deviation as well as the mean. "
   ]
  },
  {
   "cell_type": "markdown",
   "metadata": {},
   "source": [
    "## 2.2 Extract indicators for countries with top 10 confirmed number of cases in each of 3 continents"
   ]
  },
  {
   "cell_type": "markdown",
   "metadata": {},
   "source": [
    "### Read all indicators"
   ]
  },
  {
   "cell_type": "code",
   "execution_count": 24,
   "metadata": {
    "scrolled": false
   },
   "outputs": [],
   "source": [
    "demo_eco = pd.read_csv('demographics_economics_indicators.csv')\n",
    "medical = pd.read_csv('health_system_indicators.csv',index_col=0)\n",
    "total_per_million = pd.read_csv('total_per_million_0429.csv',index_col=0)"
   ]
  },
  {
   "cell_type": "markdown",
   "metadata": {},
   "source": [
    "### Merge all indicators from all the countries"
   ]
  },
  {
   "cell_type": "code",
   "execution_count": 25,
   "metadata": {
    "scrolled": false
   },
   "outputs": [
    {
     "data": {
      "text/html": [
       "<div>\n",
       "<style scoped>\n",
       "    .dataframe tbody tr th:only-of-type {\n",
       "        vertical-align: middle;\n",
       "    }\n",
       "\n",
       "    .dataframe tbody tr th {\n",
       "        vertical-align: top;\n",
       "    }\n",
       "\n",
       "    .dataframe thead th {\n",
       "        text-align: right;\n",
       "    }\n",
       "</style>\n",
       "<table border=\"1\" class=\"dataframe\">\n",
       "  <thead>\n",
       "    <tr style=\"text-align: right;\">\n",
       "      <th></th>\n",
       "      <th>Country Name</th>\n",
       "      <th>Under-5s_2015</th>\n",
       "      <th>5-14 years_2015</th>\n",
       "      <th>15-24 years_2015</th>\n",
       "      <th>25-64 years_2015</th>\n",
       "      <th>65+ years_2015</th>\n",
       "      <th>median age_2020</th>\n",
       "      <th>umemployment rate_2019</th>\n",
       "      <th>GDP_2018</th>\n",
       "      <th>hospital_beds per_thousand_2014</th>\n",
       "      <th>Health_expenditure per_capita_2017</th>\n",
       "      <th>Health_expenditure out_of_pocket per_capita_2017</th>\n",
       "      <th>Physicians per_thousand_2016</th>\n",
       "      <th>handwashing facilities%_2016</th>\n",
       "      <th>Total_tests per_thousand</th>\n",
       "    </tr>\n",
       "  </thead>\n",
       "  <tbody>\n",
       "    <tr>\n",
       "      <td>0</td>\n",
       "      <td>Afghanistan</td>\n",
       "      <td>5239401.0</td>\n",
       "      <td>9784129.0</td>\n",
       "      <td>7062361.0</td>\n",
       "      <td>10809505.0</td>\n",
       "      <td>841098.0</td>\n",
       "      <td>18.600000</td>\n",
       "      <td>11.118</td>\n",
       "      <td>1955.006208</td>\n",
       "      <td>0.5</td>\n",
       "      <td>67.122650</td>\n",
       "      <td>75.482577</td>\n",
       "      <td>0.2840</td>\n",
       "      <td>37.666535</td>\n",
       "      <td>NaN</td>\n",
       "    </tr>\n",
       "    <tr>\n",
       "      <td>1</td>\n",
       "      <td>Albania</td>\n",
       "      <td>171783.0</td>\n",
       "      <td>355206.0</td>\n",
       "      <td>475257.0</td>\n",
       "      <td>1554614.0</td>\n",
       "      <td>366492.0</td>\n",
       "      <td>38.000000</td>\n",
       "      <td>12.331</td>\n",
       "      <td>13364.155397</td>\n",
       "      <td>NaN</td>\n",
       "      <td>NaN</td>\n",
       "      <td>NaN</td>\n",
       "      <td>1.1998</td>\n",
       "      <td>NaN</td>\n",
       "      <td>NaN</td>\n",
       "    </tr>\n",
       "    <tr>\n",
       "      <td>2</td>\n",
       "      <td>Algeria</td>\n",
       "      <td>4663613.0</td>\n",
       "      <td>6760782.0</td>\n",
       "      <td>6614548.0</td>\n",
       "      <td>19492212.0</td>\n",
       "      <td>2340373.0</td>\n",
       "      <td>29.100000</td>\n",
       "      <td>11.704</td>\n",
       "      <td>15481.787620</td>\n",
       "      <td>NaN</td>\n",
       "      <td>258.494293</td>\n",
       "      <td>32.548839</td>\n",
       "      <td>1.8300</td>\n",
       "      <td>83.652782</td>\n",
       "      <td>NaN</td>\n",
       "    </tr>\n",
       "    <tr>\n",
       "      <td>3</td>\n",
       "      <td>Angola</td>\n",
       "      <td>5158374.0</td>\n",
       "      <td>7957871.0</td>\n",
       "      <td>5329040.0</td>\n",
       "      <td>8771497.0</td>\n",
       "      <td>642523.0</td>\n",
       "      <td>16.799999</td>\n",
       "      <td>6.886</td>\n",
       "      <td>6452.355165</td>\n",
       "      <td>NaN</td>\n",
       "      <td>114.459641</td>\n",
       "      <td>34.121013</td>\n",
       "      <td>NaN</td>\n",
       "      <td>26.521273</td>\n",
       "      <td>NaN</td>\n",
       "    </tr>\n",
       "    <tr>\n",
       "      <td>4</td>\n",
       "      <td>Argentina</td>\n",
       "      <td>3718139.0</td>\n",
       "      <td>7221374.0</td>\n",
       "      <td>6894781.0</td>\n",
       "      <td>20839515.0</td>\n",
       "      <td>4743956.0</td>\n",
       "      <td>31.900000</td>\n",
       "      <td>9.789</td>\n",
       "      <td>20610.568550</td>\n",
       "      <td>5.0</td>\n",
       "      <td>1324.603516</td>\n",
       "      <td>15.018527</td>\n",
       "      <td>NaN</td>\n",
       "      <td>NaN</td>\n",
       "      <td>1.24</td>\n",
       "    </tr>\n",
       "  </tbody>\n",
       "</table>\n",
       "</div>"
      ],
      "text/plain": [
       "  Country Name  Under-5s_2015  5-14 years_2015  15-24 years_2015  \\\n",
       "0  Afghanistan      5239401.0        9784129.0         7062361.0   \n",
       "1      Albania       171783.0         355206.0          475257.0   \n",
       "2      Algeria      4663613.0        6760782.0         6614548.0   \n",
       "3       Angola      5158374.0        7957871.0         5329040.0   \n",
       "4    Argentina      3718139.0        7221374.0         6894781.0   \n",
       "\n",
       "   25-64 years_2015  65+ years_2015  median age_2020  umemployment rate_2019  \\\n",
       "0        10809505.0        841098.0        18.600000                  11.118   \n",
       "1         1554614.0        366492.0        38.000000                  12.331   \n",
       "2        19492212.0       2340373.0        29.100000                  11.704   \n",
       "3         8771497.0        642523.0        16.799999                   6.886   \n",
       "4        20839515.0       4743956.0        31.900000                   9.789   \n",
       "\n",
       "       GDP_2018  hospital_beds per_thousand_2014  \\\n",
       "0   1955.006208                              0.5   \n",
       "1  13364.155397                              NaN   \n",
       "2  15481.787620                              NaN   \n",
       "3   6452.355165                              NaN   \n",
       "4  20610.568550                              5.0   \n",
       "\n",
       "   Health_expenditure per_capita_2017  \\\n",
       "0                           67.122650   \n",
       "1                                 NaN   \n",
       "2                          258.494293   \n",
       "3                          114.459641   \n",
       "4                         1324.603516   \n",
       "\n",
       "   Health_expenditure out_of_pocket per_capita_2017  \\\n",
       "0                                         75.482577   \n",
       "1                                               NaN   \n",
       "2                                         32.548839   \n",
       "3                                         34.121013   \n",
       "4                                         15.018527   \n",
       "\n",
       "   Physicians per_thousand_2016  handwashing facilities%_2016  \\\n",
       "0                        0.2840                     37.666535   \n",
       "1                        1.1998                           NaN   \n",
       "2                        1.8300                     83.652782   \n",
       "3                           NaN                     26.521273   \n",
       "4                           NaN                           NaN   \n",
       "\n",
       "   Total_tests per_thousand  \n",
       "0                       NaN  \n",
       "1                       NaN  \n",
       "2                       NaN  \n",
       "3                       NaN  \n",
       "4                      1.24  "
      ]
     },
     "execution_count": 25,
     "metadata": {},
     "output_type": "execute_result"
    }
   ],
   "source": [
    "# Merge all the indicatorss into one dataframe\n",
    "df = pd.merge(demo_eco,medical, how='outer', on=['Country Name']) \n",
    "# Drop the unnamed column\n",
    "df.drop(df.columns[0],axis=1,inplace=True) \n",
    "\n",
    "df.head() "
   ]
  },
  {
   "cell_type": "markdown",
   "metadata": {},
   "source": [
    "### Merge all 30 countries (10 from each selected continent) with their indicators accordingly"
   ]
  },
  {
   "cell_type": "code",
   "execution_count": 26,
   "metadata": {
    "scrolled": true
   },
   "outputs": [
    {
     "data": {
      "text/html": [
       "<div>\n",
       "<style scoped>\n",
       "    .dataframe tbody tr th:only-of-type {\n",
       "        vertical-align: middle;\n",
       "    }\n",
       "\n",
       "    .dataframe tbody tr th {\n",
       "        vertical-align: top;\n",
       "    }\n",
       "\n",
       "    .dataframe thead th {\n",
       "        text-align: right;\n",
       "    }\n",
       "</style>\n",
       "<table border=\"1\" class=\"dataframe\">\n",
       "  <thead>\n",
       "    <tr style=\"text-align: right;\">\n",
       "      <th></th>\n",
       "      <th>Country Name</th>\n",
       "      <th>Under-5s_2015</th>\n",
       "      <th>5-14 years_2015</th>\n",
       "      <th>15-24 years_2015</th>\n",
       "      <th>25-64 years_2015</th>\n",
       "      <th>65+ years_2015</th>\n",
       "      <th>median age_2020</th>\n",
       "      <th>umemployment rate_2019</th>\n",
       "      <th>GDP_2018</th>\n",
       "      <th>hospital_beds per_thousand_2014</th>\n",
       "      <th>Health_expenditure per_capita_2017</th>\n",
       "      <th>Health_expenditure out_of_pocket per_capita_2017</th>\n",
       "      <th>Physicians per_thousand_2016</th>\n",
       "      <th>handwashing facilities%_2016</th>\n",
       "      <th>Total_tests per_thousand</th>\n",
       "    </tr>\n",
       "  </thead>\n",
       "  <tbody>\n",
       "    <tr>\n",
       "      <td>0</td>\n",
       "      <td>Belgium</td>\n",
       "      <td>644952.0</td>\n",
       "      <td>1274467.0</td>\n",
       "      <td>1325250.0</td>\n",
       "      <td>5995378.0</td>\n",
       "      <td>2047893.0</td>\n",
       "      <td>41.799999</td>\n",
       "      <td>5.589</td>\n",
       "      <td>51407.998337</td>\n",
       "      <td>6.2</td>\n",
       "      <td>4507.356445</td>\n",
       "      <td>17.638223</td>\n",
       "      <td>3.3234</td>\n",
       "      <td>NaN</td>\n",
       "      <td>26.344</td>\n",
       "    </tr>\n",
       "    <tr>\n",
       "      <td>1</td>\n",
       "      <td>Canada</td>\n",
       "      <td>1943660.0</td>\n",
       "      <td>3800358.0</td>\n",
       "      <td>4610394.0</td>\n",
       "      <td>19790246.0</td>\n",
       "      <td>5805051.0</td>\n",
       "      <td>41.400002</td>\n",
       "      <td>5.564</td>\n",
       "      <td>48130.255973</td>\n",
       "      <td>NaN</td>\n",
       "      <td>4754.947754</td>\n",
       "      <td>14.219750</td>\n",
       "      <td>2.5668</td>\n",
       "      <td>NaN</td>\n",
       "      <td>20.095</td>\n",
       "    </tr>\n",
       "    <tr>\n",
       "      <td>2</td>\n",
       "      <td>China</td>\n",
       "      <td>85884695.0</td>\n",
       "      <td>161188094.0</td>\n",
       "      <td>182107622.0</td>\n",
       "      <td>832669638.0</td>\n",
       "      <td>135178504.0</td>\n",
       "      <td>38.700001</td>\n",
       "      <td>4.320</td>\n",
       "      <td>18236.612982</td>\n",
       "      <td>NaN</td>\n",
       "      <td>440.825623</td>\n",
       "      <td>36.050412</td>\n",
       "      <td>NaN</td>\n",
       "      <td>NaN</td>\n",
       "      <td>NaN</td>\n",
       "    </tr>\n",
       "    <tr>\n",
       "      <td>3</td>\n",
       "      <td>Costa Rica</td>\n",
       "      <td>350326.0</td>\n",
       "      <td>722240.0</td>\n",
       "      <td>809903.0</td>\n",
       "      <td>2497433.0</td>\n",
       "      <td>427950.0</td>\n",
       "      <td>33.599998</td>\n",
       "      <td>11.854</td>\n",
       "      <td>17671.095353</td>\n",
       "      <td>1.1</td>\n",
       "      <td>869.077759</td>\n",
       "      <td>21.255390</td>\n",
       "      <td>NaN</td>\n",
       "      <td>NaN</td>\n",
       "      <td>1.811</td>\n",
       "    </tr>\n",
       "    <tr>\n",
       "      <td>4</td>\n",
       "      <td>Dominican Republic</td>\n",
       "      <td>1062224.0</td>\n",
       "      <td>2091961.0</td>\n",
       "      <td>1917906.0</td>\n",
       "      <td>4755883.0</td>\n",
       "      <td>700420.0</td>\n",
       "      <td>27.600000</td>\n",
       "      <td>5.845</td>\n",
       "      <td>17748.185319</td>\n",
       "      <td>1.6</td>\n",
       "      <td>433.208588</td>\n",
       "      <td>44.738197</td>\n",
       "      <td>NaN</td>\n",
       "      <td>55.042885</td>\n",
       "      <td>NaN</td>\n",
       "    </tr>\n",
       "  </tbody>\n",
       "</table>\n",
       "</div>"
      ],
      "text/plain": [
       "         Country Name  Under-5s_2015  5-14 years_2015  15-24 years_2015  \\\n",
       "0             Belgium       644952.0        1274467.0         1325250.0   \n",
       "1              Canada      1943660.0        3800358.0         4610394.0   \n",
       "2               China     85884695.0      161188094.0       182107622.0   \n",
       "3          Costa Rica       350326.0         722240.0          809903.0   \n",
       "4  Dominican Republic      1062224.0        2091961.0         1917906.0   \n",
       "\n",
       "   25-64 years_2015  65+ years_2015  median age_2020  umemployment rate_2019  \\\n",
       "0         5995378.0       2047893.0        41.799999                   5.589   \n",
       "1        19790246.0       5805051.0        41.400002                   5.564   \n",
       "2       832669638.0     135178504.0        38.700001                   4.320   \n",
       "3         2497433.0        427950.0        33.599998                  11.854   \n",
       "4         4755883.0        700420.0        27.600000                   5.845   \n",
       "\n",
       "       GDP_2018  hospital_beds per_thousand_2014  \\\n",
       "0  51407.998337                              6.2   \n",
       "1  48130.255973                              NaN   \n",
       "2  18236.612982                              NaN   \n",
       "3  17671.095353                              1.1   \n",
       "4  17748.185319                              1.6   \n",
       "\n",
       "   Health_expenditure per_capita_2017  \\\n",
       "0                         4507.356445   \n",
       "1                         4754.947754   \n",
       "2                          440.825623   \n",
       "3                          869.077759   \n",
       "4                          433.208588   \n",
       "\n",
       "   Health_expenditure out_of_pocket per_capita_2017  \\\n",
       "0                                         17.638223   \n",
       "1                                         14.219750   \n",
       "2                                         36.050412   \n",
       "3                                         21.255390   \n",
       "4                                         44.738197   \n",
       "\n",
       "   Physicians per_thousand_2016  handwashing facilities%_2016  \\\n",
       "0                        3.3234                           NaN   \n",
       "1                        2.5668                           NaN   \n",
       "2                           NaN                           NaN   \n",
       "3                           NaN                           NaN   \n",
       "4                           NaN                     55.042885   \n",
       "\n",
       "   Total_tests per_thousand  \n",
       "0                    26.344  \n",
       "1                    20.095  \n",
       "2                       NaN  \n",
       "3                     1.811  \n",
       "4                       NaN  "
      ]
     },
     "execution_count": 26,
     "metadata": {},
     "output_type": "execute_result"
    }
   ],
   "source": [
    "countries_20 = asia_10.append(eu_10)\n",
    "# Sort index\n",
    "countries_30 = np.sort(na_10.append(countries_20))      \n",
    "countries_30 = pd.DataFrame({'Country Name':countries_30})\n",
    "\n",
    "# Extract indicators of 30 countries\n",
    "countries_factors = pd.merge(df,countries_30, how='inner', on=['Country Name']) \n",
    "countries_factors.head()"
   ]
  },
  {
   "cell_type": "markdown",
   "metadata": {},
   "source": [
    "### Data scaling and reorganization"
   ]
  },
  {
   "cell_type": "code",
   "execution_count": 27,
   "metadata": {
    "scrolled": false
   },
   "outputs": [
    {
     "data": {
      "text/html": [
       "<div>\n",
       "<style scoped>\n",
       "    .dataframe tbody tr th:only-of-type {\n",
       "        vertical-align: middle;\n",
       "    }\n",
       "\n",
       "    .dataframe tbody tr th {\n",
       "        vertical-align: top;\n",
       "    }\n",
       "\n",
       "    .dataframe thead th {\n",
       "        text-align: right;\n",
       "    }\n",
       "</style>\n",
       "<table border=\"1\" class=\"dataframe\">\n",
       "  <thead>\n",
       "    <tr style=\"text-align: right;\">\n",
       "      <th></th>\n",
       "      <th>Country Name</th>\n",
       "      <th>Under-5s_2015</th>\n",
       "      <th>5-14 years_2015</th>\n",
       "      <th>15-24 years_2015</th>\n",
       "      <th>25-64 years_2015</th>\n",
       "      <th>65+ years_2015</th>\n",
       "      <th>median age_2020</th>\n",
       "      <th>umemployment rate_2019</th>\n",
       "      <th>GDP_2018</th>\n",
       "      <th>Health_expenditure per_capita_2017</th>\n",
       "      <th>Health_expenditure out_of_pocket per_capita_2017</th>\n",
       "      <th>Physicians per_thousand_2016</th>\n",
       "      <th>Total_tests per_thousand</th>\n",
       "    </tr>\n",
       "  </thead>\n",
       "  <tbody>\n",
       "    <tr>\n",
       "      <td>0</td>\n",
       "      <td>Belgium</td>\n",
       "      <td>0.057136</td>\n",
       "      <td>0.112905</td>\n",
       "      <td>0.117404</td>\n",
       "      <td>0.531131</td>\n",
       "      <td>0.181423</td>\n",
       "      <td>41.799999</td>\n",
       "      <td>5.589</td>\n",
       "      <td>51407.998337</td>\n",
       "      <td>4507.356445</td>\n",
       "      <td>17.638223</td>\n",
       "      <td>3.323400</td>\n",
       "      <td>26.3440</td>\n",
       "    </tr>\n",
       "    <tr>\n",
       "      <td>1</td>\n",
       "      <td>Canada</td>\n",
       "      <td>0.054066</td>\n",
       "      <td>0.105713</td>\n",
       "      <td>0.128246</td>\n",
       "      <td>0.550498</td>\n",
       "      <td>0.161477</td>\n",
       "      <td>41.400002</td>\n",
       "      <td>5.564</td>\n",
       "      <td>48130.255973</td>\n",
       "      <td>4754.947754</td>\n",
       "      <td>14.219750</td>\n",
       "      <td>2.566800</td>\n",
       "      <td>20.0950</td>\n",
       "    </tr>\n",
       "    <tr>\n",
       "      <td>2</td>\n",
       "      <td>China</td>\n",
       "      <td>0.061477</td>\n",
       "      <td>0.115379</td>\n",
       "      <td>0.130354</td>\n",
       "      <td>0.596029</td>\n",
       "      <td>0.096761</td>\n",
       "      <td>38.700001</td>\n",
       "      <td>4.320</td>\n",
       "      <td>18236.612982</td>\n",
       "      <td>440.825623</td>\n",
       "      <td>36.050412</td>\n",
       "      <td>2.754165</td>\n",
       "      <td>15.9661</td>\n",
       "    </tr>\n",
       "    <tr>\n",
       "      <td>3</td>\n",
       "      <td>Costa Rica</td>\n",
       "      <td>0.072865</td>\n",
       "      <td>0.150221</td>\n",
       "      <td>0.168454</td>\n",
       "      <td>0.519449</td>\n",
       "      <td>0.089011</td>\n",
       "      <td>33.599998</td>\n",
       "      <td>11.854</td>\n",
       "      <td>17671.095353</td>\n",
       "      <td>869.077759</td>\n",
       "      <td>21.255390</td>\n",
       "      <td>2.754165</td>\n",
       "      <td>1.8110</td>\n",
       "    </tr>\n",
       "    <tr>\n",
       "      <td>4</td>\n",
       "      <td>Dominican Republic</td>\n",
       "      <td>0.100891</td>\n",
       "      <td>0.198697</td>\n",
       "      <td>0.182165</td>\n",
       "      <td>0.451720</td>\n",
       "      <td>0.066527</td>\n",
       "      <td>27.600000</td>\n",
       "      <td>5.845</td>\n",
       "      <td>17748.185319</td>\n",
       "      <td>433.208588</td>\n",
       "      <td>44.738197</td>\n",
       "      <td>2.754165</td>\n",
       "      <td>15.9661</td>\n",
       "    </tr>\n",
       "  </tbody>\n",
       "</table>\n",
       "</div>"
      ],
      "text/plain": [
       "         Country Name  Under-5s_2015  5-14 years_2015  15-24 years_2015  \\\n",
       "0             Belgium       0.057136         0.112905          0.117404   \n",
       "1              Canada       0.054066         0.105713          0.128246   \n",
       "2               China       0.061477         0.115379          0.130354   \n",
       "3          Costa Rica       0.072865         0.150221          0.168454   \n",
       "4  Dominican Republic       0.100891         0.198697          0.182165   \n",
       "\n",
       "   25-64 years_2015  65+ years_2015  median age_2020  umemployment rate_2019  \\\n",
       "0          0.531131        0.181423        41.799999                   5.589   \n",
       "1          0.550498        0.161477        41.400002                   5.564   \n",
       "2          0.596029        0.096761        38.700001                   4.320   \n",
       "3          0.519449        0.089011        33.599998                  11.854   \n",
       "4          0.451720        0.066527        27.600000                   5.845   \n",
       "\n",
       "       GDP_2018  Health_expenditure per_capita_2017  \\\n",
       "0  51407.998337                         4507.356445   \n",
       "1  48130.255973                         4754.947754   \n",
       "2  18236.612982                          440.825623   \n",
       "3  17671.095353                          869.077759   \n",
       "4  17748.185319                          433.208588   \n",
       "\n",
       "   Health_expenditure out_of_pocket per_capita_2017  \\\n",
       "0                                         17.638223   \n",
       "1                                         14.219750   \n",
       "2                                         36.050412   \n",
       "3                                         21.255390   \n",
       "4                                         44.738197   \n",
       "\n",
       "   Physicians per_thousand_2016  Total_tests per_thousand  \n",
       "0                      3.323400                   26.3440  \n",
       "1                      2.566800                   20.0950  \n",
       "2                      2.754165                   15.9661  \n",
       "3                      2.754165                    1.8110  \n",
       "4                      2.754165                   15.9661  "
      ]
     },
     "execution_count": 27,
     "metadata": {},
     "output_type": "execute_result"
    }
   ],
   "source": [
    "# Dividing all age groups by total population\n",
    "Total_population = countries_factors['Under-5s_2015']+countries_factors['5-14 years_2015']+countries_factors['15-24 years_2015']+countries_factors['25-64 years_2015']+countries_factors['65+ years_2015']\n",
    "countries_factors['Under-5s_2015'] = countries_factors['Under-5s_2015']/Total_population\n",
    "countries_factors['65+ years_2015'] = countries_factors['65+ years_2015']/Total_population\n",
    "countries_factors['5-14 years_2015'] = countries_factors['5-14 years_2015']/Total_population\n",
    "countries_factors['15-24 years_2015'] = countries_factors['15-24 years_2015']/Total_population\n",
    "countries_factors['25-64 years_2015'] = countries_factors['25-64 years_2015']/Total_population\n",
    "\n",
    "# Drop columns that have too many NaNs\n",
    "countries_all_factors = countries_factors.drop(['hospital_beds per_thousand_2014','handwashing facilities%_2016'],axis=1)\n",
    "# Replace the missing data with the mean of that column\n",
    "countries_all_factors.fillna(countries_all_factors.mean(), inplace=True)\n",
    "\n",
    "countries_all_factors.head()"
   ]
  },
  {
   "cell_type": "markdown",
   "metadata": {},
   "source": [
    "## 2.3 Find the relationship between confirmed cases and socioeconomic indicators (age demographics, economic, and healthcare indicators)"
   ]
  },
  {
   "cell_type": "markdown",
   "metadata": {},
   "source": [
    "### Add the column \"Total cases per million\"  to countries_all_factors"
   ]
  },
  {
   "cell_type": "code",
   "execution_count": 28,
   "metadata": {
    "scrolled": true
   },
   "outputs": [
    {
     "data": {
      "text/html": [
       "<div>\n",
       "<style scoped>\n",
       "    .dataframe tbody tr th:only-of-type {\n",
       "        vertical-align: middle;\n",
       "    }\n",
       "\n",
       "    .dataframe tbody tr th {\n",
       "        vertical-align: top;\n",
       "    }\n",
       "\n",
       "    .dataframe thead th {\n",
       "        text-align: right;\n",
       "    }\n",
       "</style>\n",
       "<table border=\"1\" class=\"dataframe\">\n",
       "  <thead>\n",
       "    <tr style=\"text-align: right;\">\n",
       "      <th></th>\n",
       "      <th>Country Name</th>\n",
       "      <th>Under-5s_2015</th>\n",
       "      <th>5-14 years_2015</th>\n",
       "      <th>15-24 years_2015</th>\n",
       "      <th>25-64 years_2015</th>\n",
       "      <th>65+ years_2015</th>\n",
       "      <th>median age_2020</th>\n",
       "      <th>umemployment rate_2019</th>\n",
       "      <th>GDP_2018</th>\n",
       "      <th>Health_expenditure per_capita_2017</th>\n",
       "      <th>Health_expenditure out_of_pocket per_capita_2017</th>\n",
       "      <th>Physicians per_thousand_2016</th>\n",
       "      <th>Total_tests per_thousand</th>\n",
       "      <th>Total cases per million</th>\n",
       "    </tr>\n",
       "  </thead>\n",
       "  <tbody>\n",
       "    <tr>\n",
       "      <td>0</td>\n",
       "      <td>Belgium</td>\n",
       "      <td>0.057136</td>\n",
       "      <td>0.112905</td>\n",
       "      <td>0.117404</td>\n",
       "      <td>0.531131</td>\n",
       "      <td>0.181423</td>\n",
       "      <td>41.799999</td>\n",
       "      <td>5.589</td>\n",
       "      <td>51407.998337</td>\n",
       "      <td>4507.356445</td>\n",
       "      <td>17.638223</td>\n",
       "      <td>3.323400</td>\n",
       "      <td>26.3440</td>\n",
       "      <td>4084.173</td>\n",
       "    </tr>\n",
       "    <tr>\n",
       "      <td>1</td>\n",
       "      <td>Canada</td>\n",
       "      <td>0.054066</td>\n",
       "      <td>0.105713</td>\n",
       "      <td>0.128246</td>\n",
       "      <td>0.550498</td>\n",
       "      <td>0.161477</td>\n",
       "      <td>41.400002</td>\n",
       "      <td>5.564</td>\n",
       "      <td>48130.255973</td>\n",
       "      <td>4754.947754</td>\n",
       "      <td>14.219750</td>\n",
       "      <td>2.566800</td>\n",
       "      <td>20.0950</td>\n",
       "      <td>1325.176</td>\n",
       "    </tr>\n",
       "    <tr>\n",
       "      <td>2</td>\n",
       "      <td>China</td>\n",
       "      <td>0.061477</td>\n",
       "      <td>0.115379</td>\n",
       "      <td>0.130354</td>\n",
       "      <td>0.596029</td>\n",
       "      <td>0.096761</td>\n",
       "      <td>38.700001</td>\n",
       "      <td>4.320</td>\n",
       "      <td>18236.612982</td>\n",
       "      <td>440.825623</td>\n",
       "      <td>36.050412</td>\n",
       "      <td>2.754165</td>\n",
       "      <td>15.9661</td>\n",
       "      <td>58.319</td>\n",
       "    </tr>\n",
       "    <tr>\n",
       "      <td>3</td>\n",
       "      <td>Costa Rica</td>\n",
       "      <td>0.072865</td>\n",
       "      <td>0.150221</td>\n",
       "      <td>0.168454</td>\n",
       "      <td>0.519449</td>\n",
       "      <td>0.089011</td>\n",
       "      <td>33.599998</td>\n",
       "      <td>11.854</td>\n",
       "      <td>17671.095353</td>\n",
       "      <td>869.077759</td>\n",
       "      <td>21.255390</td>\n",
       "      <td>2.754165</td>\n",
       "      <td>1.8110</td>\n",
       "      <td>138.395</td>\n",
       "    </tr>\n",
       "    <tr>\n",
       "      <td>4</td>\n",
       "      <td>Dominican Republic</td>\n",
       "      <td>0.100891</td>\n",
       "      <td>0.198697</td>\n",
       "      <td>0.182165</td>\n",
       "      <td>0.451720</td>\n",
       "      <td>0.066527</td>\n",
       "      <td>27.600000</td>\n",
       "      <td>5.845</td>\n",
       "      <td>17748.185319</td>\n",
       "      <td>433.208588</td>\n",
       "      <td>44.738197</td>\n",
       "      <td>2.754165</td>\n",
       "      <td>15.9661</td>\n",
       "      <td>591.451</td>\n",
       "    </tr>\n",
       "  </tbody>\n",
       "</table>\n",
       "</div>"
      ],
      "text/plain": [
       "         Country Name  Under-5s_2015  5-14 years_2015  15-24 years_2015  \\\n",
       "0             Belgium       0.057136         0.112905          0.117404   \n",
       "1              Canada       0.054066         0.105713          0.128246   \n",
       "2               China       0.061477         0.115379          0.130354   \n",
       "3          Costa Rica       0.072865         0.150221          0.168454   \n",
       "4  Dominican Republic       0.100891         0.198697          0.182165   \n",
       "\n",
       "   25-64 years_2015  65+ years_2015  median age_2020  umemployment rate_2019  \\\n",
       "0          0.531131        0.181423        41.799999                   5.589   \n",
       "1          0.550498        0.161477        41.400002                   5.564   \n",
       "2          0.596029        0.096761        38.700001                   4.320   \n",
       "3          0.519449        0.089011        33.599998                  11.854   \n",
       "4          0.451720        0.066527        27.600000                   5.845   \n",
       "\n",
       "       GDP_2018  Health_expenditure per_capita_2017  \\\n",
       "0  51407.998337                         4507.356445   \n",
       "1  48130.255973                         4754.947754   \n",
       "2  18236.612982                          440.825623   \n",
       "3  17671.095353                          869.077759   \n",
       "4  17748.185319                          433.208588   \n",
       "\n",
       "   Health_expenditure out_of_pocket per_capita_2017  \\\n",
       "0                                         17.638223   \n",
       "1                                         14.219750   \n",
       "2                                         36.050412   \n",
       "3                                         21.255390   \n",
       "4                                         44.738197   \n",
       "\n",
       "   Physicians per_thousand_2016  Total_tests per_thousand  \\\n",
       "0                      3.323400                   26.3440   \n",
       "1                      2.566800                   20.0950   \n",
       "2                      2.754165                   15.9661   \n",
       "3                      2.754165                    1.8110   \n",
       "4                      2.754165                   15.9661   \n",
       "\n",
       "   Total cases per million  \n",
       "0                 4084.173  \n",
       "1                 1325.176  \n",
       "2                   58.319  \n",
       "3                  138.395  \n",
       "4                  591.451  "
      ]
     },
     "execution_count": 28,
     "metadata": {},
     "output_type": "execute_result"
    }
   ],
   "source": [
    "countries_selected = countries_all_factors['Country Name']\n",
    "\n",
    "# Select the 30 counties from the total_per_million dataframe\n",
    "total_per_million_selected = pd.DataFrame()\n",
    "for x in countries_selected:\n",
    "     total_per_million_selected = total_per_million_selected.append(total_per_million[total_per_million['Country Name']== x])\n",
    "\n",
    "# Merge all factors into one dataframe\n",
    "countries_all_factors = pd.merge(countries_all_factors,total_per_million_selected, how='inner', on=['Country Name'])\n",
    "countries_all_factors.head()\n"
   ]
  },
  {
   "cell_type": "markdown",
   "metadata": {},
   "source": [
    "### Visualize the relationship between \"Total cases per million\" and different indicators "
   ]
  },
  {
   "cell_type": "code",
   "execution_count": 29,
   "metadata": {
    "scrolled": true
   },
   "outputs": [
    {
     "name": "stdout",
     "output_type": "stream",
     "text": [
      "Under-5s_2015 : slope = -29266.298 intercept =  3638.992\n"
     ]
    },
    {
     "data": {
      "image/png": "[encoded data removed]",
      "text/plain": [
       "<Figure size 432x288 with 1 Axes>"
      ]
     },
     "metadata": {
      "needs_background": "light"
     },
     "output_type": "display_data"
    },
    {
     "name": "stdout",
     "output_type": "stream",
     "text": [
      "5-14 years_2015 : slope = -18382.845 intercept =  4136.949\n"
     ]
    },
    {
     "data": {
      "image/png": "[encoded data removed]",
      "text/plain": [
       "<Figure size 432x288 with 1 Axes>"
      ]
     },
     "metadata": {
      "needs_background": "light"
     },
     "output_type": "display_data"
    },
    {
     "name": "stdout",
     "output_type": "stream",
     "text": [
      "15-24 years_2015 : slope = -25375.172 intercept =  5188.712\n"
     ]
    },
    {
     "data": {
      "image/png": "[encoded data removed]",
      "text/plain": [
       "<Figure size 432x288 with 1 Axes>"
      ]
     },
     "metadata": {
      "needs_background": "light"
     },
     "output_type": "display_data"
    },
    {
     "name": "stdout",
     "output_type": "stream",
     "text": [
      "25-64 years_2015 : slope =  12489.506 intercept = -4938.455\n"
     ]
    },
    {
     "data": {
      "image/png": "[encoded data removed]",
      "text/plain": [
       "<Figure size 432x288 with 1 Axes>"
      ]
     },
     "metadata": {
      "needs_background": "light"
     },
     "output_type": "display_data"
    },
    {
     "name": "stdout",
     "output_type": "stream",
     "text": [
      "65+ years_2015 : slope =  7887.978 intercept =  542.851\n"
     ]
    },
    {
     "data": {
      "image/png": "[encoded data removed]",
      "text/plain": [
       "<Figure size 432x288 with 1 Axes>"
      ]
     },
     "metadata": {
      "needs_background": "light"
     },
     "output_type": "display_data"
    },
    {
     "name": "stdout",
     "output_type": "stream",
     "text": [
      "median age_2020 : slope =  93.182 intercept = -1877.369\n"
     ]
    },
    {
     "data": {
      "image/png": "[encoded data removed]",
      "text/plain": [
       "<Figure size 432x288 with 1 Axes>"
      ]
     },
     "metadata": {
      "needs_background": "light"
     },
     "output_type": "display_data"
    },
    {
     "name": "stdout",
     "output_type": "stream",
     "text": [
      "umemployment rate_2019 : slope = -60.018 intercept =  1835.997\n"
     ]
    },
    {
     "data": {
      "image/png": "[encoded data removed]",
      "text/plain": [
       "<Figure size 432x288 with 1 Axes>"
      ]
     },
     "metadata": {
      "needs_background": "light"
     },
     "output_type": "display_data"
    },
    {
     "name": "stdout",
     "output_type": "stream",
     "text": [
      "GDP_2018 : slope =  0.037 intercept = -75.010\n"
     ]
    },
    {
     "data": {
      "image/png": "[encoded data removed]",
      "text/plain": [
       "<Figure size 432x288 with 1 Axes>"
      ]
     },
     "metadata": {
      "needs_background": "light"
     },
     "output_type": "display_data"
    },
    {
     "name": "stdout",
     "output_type": "stream",
     "text": [
      "Health_expenditure per_capita_2017 : slope =  0.323 intercept =  612.869\n"
     ]
    },
    {
     "data": {
      "image/png": "[encoded data removed]",
      "text/plain": [
       "<Figure size 432x288 with 1 Axes>"
      ]
     },
     "metadata": {
      "needs_background": "light"
     },
     "output_type": "display_data"
    },
    {
     "name": "stdout",
     "output_type": "stream",
     "text": [
      "Health_expenditure out_of_pocket per_capita_2017 : slope = -46.637 intercept =  2737.239\n"
     ]
    },
    {
     "data": {
      "image/png": "[encoded data removed]",
      "text/plain": [
       "<Figure size 432x288 with 1 Axes>"
      ]
     },
     "metadata": {
      "needs_background": "light"
     },
     "output_type": "display_data"
    },
    {
     "name": "stdout",
     "output_type": "stream",
     "text": [
      "Physicians per_thousand_2016 : slope =  873.311 intercept = -889.421\n"
     ]
    },
    {
     "data": {
      "image/png": "[encoded data removed]",
      "text/plain": [
       "<Figure size 432x288 with 1 Axes>"
      ]
     },
     "metadata": {
      "needs_background": "light"
     },
     "output_type": "display_data"
    },
    {
     "name": "stdout",
     "output_type": "stream",
     "text": [
      "Total_tests per_thousand : slope =  73.112 intercept =  348.503\n"
     ]
    },
    {
     "data": {
      "image/png": "[encoded data removed]",
      "text/plain": [
       "<Figure size 432x288 with 1 Axes>"
      ]
     },
     "metadata": {
      "needs_background": "light"
     },
     "output_type": "display_data"
    }
   ],
   "source": [
    "for column in countries_all_factors.columns[1:13]:\n",
    "    plt.scatter(countries_all_factors[column],countries_all_factors['Total cases per million'])\n",
    "    \n",
    "    # Using Linear Regression to find the slope and intercept for each graph\n",
    "    model = LinearRegression().fit(countries_all_factors[[column]], countries_all_factors['Total cases per million'] )\n",
    "    predictions = countries_all_factors[column] * model.coef_[0] + model.intercept_\n",
    "    print(column,':','slope = % .3f' %model.coef_[0],'intercept = % .3f' %model.intercept_)\n",
    "    \n",
    "    # Plot the graph for each factor\n",
    "    plt.plot(countries_all_factors[column],predictions)\n",
    "    plt.xlabel(column)\n",
    "    plt.ylabel('Total case per million')\n",
    "    plt.show()\n",
    "    "
   ]
  },
  {
   "cell_type": "markdown",
   "metadata": {},
   "source": [
    "### Compute the rank correlation between each indicator and \"Total cases per million\"\n",
    "A rank correlation coefficient measures the degree of similarity between two rankings (each socioeconomic indicator and total cases per million), and it can be used to assess the significance of the relation between the two.     \n"
   ]
  },
  {
   "cell_type": "code",
   "execution_count": 30,
   "metadata": {
    "scrolled": true
   },
   "outputs": [
    {
     "name": "stdout",
     "output_type": "stream",
     "text": [
      "rank correlation between Under-5s_2015 and total cases per million = -0.525\n",
      "rank correlation between 5-14 years_2015 and total cases per million = -0.630\n",
      "rank correlation between 15-24 years_2015 and total cases per million = -0.619\n",
      "rank correlation between 25-64 years_2015 and total cases per million =  0.588\n",
      "rank correlation between 65+ years_2015 and total cases per million =  0.471\n",
      "rank correlation between median age_2020 and total cases per million =  0.550\n",
      "rank correlation between umemployment rate_2019 and total cases per million = -0.028\n",
      "rank correlation between GDP_2018 and total cases per million =  0.762\n",
      "rank correlation between Health_expenditure per_capita_2017 and total cases per million =  0.712\n",
      "rank correlation between Health_expenditure out_of_pocket per_capita_2017 and total cases per million = -0.522\n",
      "rank correlation between Physicians per_thousand_2016 and total cases per million =  0.595\n",
      "rank correlation between Total_tests per_thousand and total cases per million =  0.612\n"
     ]
    }
   ],
   "source": [
    "for col in countries_all_factors.columns[1:13]:\n",
    "    rank_correlation = np.corrcoef(countries_all_factors[col].rank() , countries_all_factors['Total cases per million'].rank())[0,1]\n",
    "    print('rank correlation between', col, 'and total cases per million = % .3f' %rank_correlation)\n",
    "    "
   ]
  },
  {
   "cell_type": "markdown",
   "metadata": {},
   "source": [
    "#### Indicators negatively correlated with total cases per million:\n",
    "- under 5 age group\n",
    "- 5-14 age group\n",
    "- 15-24 age group\n",
    "- unemployment rate\n",
    "- health expenditure out-of-pocket per capita\n",
    "\n",
    "#### Indicators positively correlated with total cases per million:\n",
    "- 25-64 age group\n",
    "- 65+ age group\n",
    "- median age \n",
    "- GDP\n",
    "- health expenditure per capita\n",
    "- physicians per thousand\n",
    "- total test per thousand\n",
    "\n",
    "#### The three socioeconomic indicators with the highest absolute value are:\n",
    "1. GDP (2018 data): 0.762\n",
    "    - Higher GDP is correlated with higher total cases per million. A more developed country with higher economic activity is more likely to expererience a large outbreak.\n",
    "2. Health expenditure per capita (2017 data): 0.712\n",
    "    - higher health expenditure per capita is correlated with higher total cases per million. A country that spends more money on the healthcare system per capita is more likely to experience a large outbreak.\n",
    "3. 5-14 age group (2015 data): -0.630\n",
    "    - higher percentage of 5-14 age group in a population is correlated with lower total cases per million. A country with more teenagers is less likely to experience a large outbreak. "
   ]
  },
  {
   "cell_type": "markdown",
   "metadata": {},
   "source": [
    "## 2.4 Find the relationship between confirmed cases and political indicators\n",
    "\n",
    "### Using the Government Response Stringency Index"
   ]
  },
  {
   "cell_type": "code",
   "execution_count": 31,
   "metadata": {
    "scrolled": false
   },
   "outputs": [
    {
     "data": {
      "text/html": [
       "<div>\n",
       "<style scoped>\n",
       "    .dataframe tbody tr th:only-of-type {\n",
       "        vertical-align: middle;\n",
       "    }\n",
       "\n",
       "    .dataframe tbody tr th {\n",
       "        vertical-align: top;\n",
       "    }\n",
       "\n",
       "    .dataframe thead th {\n",
       "        text-align: right;\n",
       "    }\n",
       "</style>\n",
       "<table border=\"1\" class=\"dataframe\">\n",
       "  <thead>\n",
       "    <tr style=\"text-align: right;\">\n",
       "      <th></th>\n",
       "      <th>Country Name</th>\n",
       "      <th>Date</th>\n",
       "      <th>Government Response Stringency Index ((0 to 100, 100 = strictest))</th>\n",
       "    </tr>\n",
       "  </thead>\n",
       "  <tbody>\n",
       "    <tr>\n",
       "      <td>0</td>\n",
       "      <td>Afghanistan</td>\n",
       "      <td>Jan 1, 2020</td>\n",
       "      <td>0.0</td>\n",
       "    </tr>\n",
       "    <tr>\n",
       "      <td>1</td>\n",
       "      <td>Afghanistan</td>\n",
       "      <td>Jan 2, 2020</td>\n",
       "      <td>0.0</td>\n",
       "    </tr>\n",
       "    <tr>\n",
       "      <td>2</td>\n",
       "      <td>Afghanistan</td>\n",
       "      <td>Jan 3, 2020</td>\n",
       "      <td>0.0</td>\n",
       "    </tr>\n",
       "    <tr>\n",
       "      <td>3</td>\n",
       "      <td>Afghanistan</td>\n",
       "      <td>Jan 4, 2020</td>\n",
       "      <td>0.0</td>\n",
       "    </tr>\n",
       "    <tr>\n",
       "      <td>4</td>\n",
       "      <td>Afghanistan</td>\n",
       "      <td>Jan 5, 2020</td>\n",
       "      <td>0.0</td>\n",
       "    </tr>\n",
       "  </tbody>\n",
       "</table>\n",
       "</div>"
      ],
      "text/plain": [
       "  Country Name         Date  \\\n",
       "0  Afghanistan  Jan 1, 2020   \n",
       "1  Afghanistan  Jan 2, 2020   \n",
       "2  Afghanistan  Jan 3, 2020   \n",
       "3  Afghanistan  Jan 4, 2020   \n",
       "4  Afghanistan  Jan 5, 2020   \n",
       "\n",
       "   Government Response Stringency Index ((0 to 100, 100 = strictest))  \n",
       "0                                                0.0                   \n",
       "1                                                0.0                   \n",
       "2                                                0.0                   \n",
       "3                                                0.0                   \n",
       "4                                                0.0                   "
      ]
     },
     "execution_count": 31,
     "metadata": {},
     "output_type": "execute_result"
    }
   ],
   "source": [
    "csi = pd.read_csv('Government_Response_Stringency_Index.csv',index_col=0)\n",
    "csi.head()"
   ]
  },
  {
   "cell_type": "code",
   "execution_count": 46,
   "metadata": {
    "scrolled": false
   },
   "outputs": [
    {
     "data": {
      "text/html": [
       "<div>\n",
       "<style scoped>\n",
       "    .dataframe tbody tr th:only-of-type {\n",
       "        vertical-align: middle;\n",
       "    }\n",
       "\n",
       "    .dataframe tbody tr th {\n",
       "        vertical-align: top;\n",
       "    }\n",
       "\n",
       "    .dataframe thead th {\n",
       "        text-align: right;\n",
       "    }\n",
       "</style>\n",
       "<table border=\"1\" class=\"dataframe\">\n",
       "  <thead>\n",
       "    <tr style=\"text-align: right;\">\n",
       "      <th></th>\n",
       "      <th>Date</th>\n",
       "      <th>Government Response Stringency Index ((0 to 100, 100 = strictest))</th>\n",
       "      <th>Daysafter</th>\n",
       "    </tr>\n",
       "    <tr>\n",
       "      <th>Country Name</th>\n",
       "      <th></th>\n",
       "      <th></th>\n",
       "      <th></th>\n",
       "    </tr>\n",
       "  </thead>\n",
       "  <tbody>\n",
       "    <tr>\n",
       "      <td>Belgium</td>\n",
       "      <td>2020-01-01</td>\n",
       "      <td>0.0</td>\n",
       "      <td>0</td>\n",
       "    </tr>\n",
       "    <tr>\n",
       "      <td>Belgium</td>\n",
       "      <td>2020-01-02</td>\n",
       "      <td>0.0</td>\n",
       "      <td>1</td>\n",
       "    </tr>\n",
       "    <tr>\n",
       "      <td>Belgium</td>\n",
       "      <td>2020-01-03</td>\n",
       "      <td>0.0</td>\n",
       "      <td>2</td>\n",
       "    </tr>\n",
       "    <tr>\n",
       "      <td>Belgium</td>\n",
       "      <td>2020-01-04</td>\n",
       "      <td>0.0</td>\n",
       "      <td>3</td>\n",
       "    </tr>\n",
       "    <tr>\n",
       "      <td>Belgium</td>\n",
       "      <td>2020-01-05</td>\n",
       "      <td>0.0</td>\n",
       "      <td>4</td>\n",
       "    </tr>\n",
       "  </tbody>\n",
       "</table>\n",
       "</div>"
      ],
      "text/plain": [
       "                   Date  \\\n",
       "Country Name              \n",
       "Belgium      2020-01-01   \n",
       "Belgium      2020-01-02   \n",
       "Belgium      2020-01-03   \n",
       "Belgium      2020-01-04   \n",
       "Belgium      2020-01-05   \n",
       "\n",
       "              Government Response Stringency Index ((0 to 100, 100 = strictest))  \\\n",
       "Country Name                                                                       \n",
       "Belgium                                                     0.0                    \n",
       "Belgium                                                     0.0                    \n",
       "Belgium                                                     0.0                    \n",
       "Belgium                                                     0.0                    \n",
       "Belgium                                                     0.0                    \n",
       "\n",
       "              Daysafter  \n",
       "Country Name             \n",
       "Belgium               0  \n",
       "Belgium               1  \n",
       "Belgium               2  \n",
       "Belgium               3  \n",
       "Belgium               4  "
      ]
     },
     "execution_count": 46,
     "metadata": {},
     "output_type": "execute_result"
    }
   ],
   "source": [
    "# Extract data for the 30 countries\n",
    "csi=pd.merge(csi,countries_30, how='inner', on=['Country Name']) \n",
    "\n",
    "# Set \"Country Name\" to index \n",
    "csi.set_index('Country Name', inplace=True, drop=True)\n",
    "csi.head()\n",
    "\n",
    "# Convert date to number of days after 01/01/20 and add that column to df\n",
    "# Acknowledge Prof.Mimno's code\n",
    "csi[\"Date\"] = pd.to_datetime(csi[\"Date\"])\n",
    "start_date = pd.Timestamp(\"2020-01-01\")\n",
    "csi[\"Daysafter\"] = (csi[\"Date\"] - start_date).dt.days\n",
    "\n",
    "csi.head()"
   ]
  },
  {
   "cell_type": "markdown",
   "metadata": {},
   "source": [
    "### Measure the timeliness and intensity of government response by:\n",
    "- finding the number of days each country took to reach the maximum Government Response Stringency Index  \n",
    "- calculating the area under the curve from first day to peak "
   ]
  },
  {
   "cell_type": "code",
   "execution_count": 144,
   "metadata": {
    "scrolled": true
   },
   "outputs": [
    {
     "name": "stdout",
     "output_type": "stream",
     "text": [
      "\n",
      "Country: Belgium\n",
      "Maximum Stringency Index: 83.6\n",
      "Number of days to reach max stringency index: 79\n",
      "Area under the curve before peak 886.380\n"
     ]
    },
    {
     "data": {
      "image/png": "[encoded data removed]",
      "text/plain": [
       "<Figure size 432x288 with 1 Axes>"
      ]
     },
     "metadata": {
      "needs_background": "light"
     },
     "output_type": "display_data"
    },
    {
     "name": "stdout",
     "output_type": "stream",
     "text": [
      "\n",
      "Country: Canada\n",
      "Maximum Stringency Index: 76.73\n",
      "Number of days to reach max stringency index: 91\n",
      "Area under the curve before peak 1308.890\n"
     ]
    },
    {
     "data": {
      "image/png": "[encoded data removed]",
      "text/plain": [
       "<Figure size 432x288 with 1 Axes>"
      ]
     },
     "metadata": {
      "needs_background": "light"
     },
     "output_type": "display_data"
    },
    {
     "name": "stdout",
     "output_type": "stream",
     "text": [
      "\n",
      "Country: China\n",
      "Maximum Stringency Index: 71.45\n",
      "Number of days to reach max stringency index: 55\n",
      "Area under the curve before peak 2119.145\n"
     ]
    },
    {
     "data": {
      "image/png": "[encoded data removed]",
      "text/plain": [
       "<Figure size 432x288 with 1 Axes>"
      ]
     },
     "metadata": {
      "needs_background": "light"
     },
     "output_type": "display_data"
    },
    {
     "name": "stdout",
     "output_type": "stream",
     "text": [
      "\n",
      "Country: Costa Rica\n",
      "Maximum Stringency Index: 81.61\n",
      "Number of days to reach max stringency index: 117\n",
      "Area under the curve before peak 3692.155\n"
     ]
    },
    {
     "data": {
      "image/png": "[encoded data removed]",
      "text/plain": [
       "<Figure size 432x288 with 1 Axes>"
      ]
     },
     "metadata": {
      "needs_background": "light"
     },
     "output_type": "display_data"
    },
    {
     "name": "stdout",
     "output_type": "stream",
     "text": [
      "\n",
      "Country: Cuba\n",
      "Maximum Stringency Index: 83.07\n",
      "Number of days to reach max stringency index: 107\n",
      "Area under the curve before peak 2412.870\n"
     ]
    },
    {
     "data": {
      "image/png": "[encoded data removed]",
      "text/plain": [
       "<Figure size 432x288 with 1 Axes>"
      ]
     },
     "metadata": {
      "needs_background": "light"
     },
     "output_type": "display_data"
    },
    {
     "name": "stdout",
     "output_type": "stream",
     "text": [
      "\n",
      "Country: Dominican Republic\n",
      "Maximum Stringency Index: 98.02\n",
      "Number of days to reach max stringency index: 118\n",
      "Area under the curve before peak 3870.685\n"
     ]
    },
    {
     "data": {
      "image/png": "[encoded data removed]",
      "text/plain": [
       "<Figure size 432x288 with 1 Axes>"
      ]
     },
     "metadata": {
      "needs_background": "light"
     },
     "output_type": "display_data"
    },
    {
     "name": "stdout",
     "output_type": "stream",
     "text": [
      "\n",
      "Country: France\n",
      "Maximum Stringency Index: 93.38\n",
      "Number of days to reach max stringency index: 116\n",
      "Area under the curve before peak 4550.585\n"
     ]
    },
    {
     "data": {
      "image/png": "[encoded data removed]",
      "text/plain": [
       "<Figure size 432x288 with 1 Axes>"
      ]
     },
     "metadata": {
      "needs_background": "light"
     },
     "output_type": "display_data"
    },
    {
     "name": "stdout",
     "output_type": "stream",
     "text": [
      "\n",
      "Country: Germany\n",
      "Maximum Stringency Index: 81.75\n",
      "Number of days to reach max stringency index: 96\n",
      "Area under the curve before peak 2291.125\n"
     ]
    },
    {
     "data": {
      "image/png": "[encoded data removed]",
      "text/plain": [
       "<Figure size 432x288 with 1 Axes>"
      ]
     },
     "metadata": {
      "needs_background": "light"
     },
     "output_type": "display_data"
    },
    {
     "name": "stdout",
     "output_type": "stream",
     "text": [
      "\n",
      "Country: Guatemala\n",
      "Maximum Stringency Index: 97.35\n",
      "Number of days to reach max stringency index: 108\n",
      "Area under the curve before peak 3791.820\n"
     ]
    },
    {
     "data": {
      "image/png": "[encoded data removed]",
      "text/plain": [
       "<Figure size 432x288 with 1 Axes>"
      ]
     },
     "metadata": {
      "needs_background": "light"
     },
     "output_type": "display_data"
    },
    {
     "name": "stdout",
     "output_type": "stream",
     "text": [
      "\n",
      "Country: Honduras\n",
      "Maximum Stringency Index: 100.0\n",
      "Number of days to reach max stringency index: 80\n",
      "Area under the curve before peak 581.920\n"
     ]
    },
    {
     "data": {
      "image/png": "[encoded data removed]",
      "text/plain": [
       "<Figure size 432x288 with 1 Axes>"
      ]
     },
     "metadata": {
      "needs_background": "light"
     },
     "output_type": "display_data"
    },
    {
     "name": "stdout",
     "output_type": "stream",
     "text": [
      "\n",
      "Country: India\n",
      "Maximum Stringency Index: 100.0\n",
      "Number of days to reach max stringency index: 80\n",
      "Area under the curve before peak 792.560\n"
     ]
    },
    {
     "data": {
      "image/png": "[encoded data removed]",
      "text/plain": [
       "<Figure size 432x288 with 1 Axes>"
      ]
     },
     "metadata": {
      "needs_background": "light"
     },
     "output_type": "display_data"
    },
    {
     "name": "stdout",
     "output_type": "stream",
     "text": [
      "\n",
      "Country: Iran\n",
      "Maximum Stringency Index: 65.34\n",
      "Number of days to reach max stringency index: 95\n",
      "Area under the curve before peak 1745.825\n"
     ]
    },
    {
     "data": {
      "image/png": "[encoded data removed]",
      "text/plain": [
       "<Figure size 432x288 with 1 Axes>"
      ]
     },
     "metadata": {
      "needs_background": "light"
     },
     "output_type": "display_data"
    },
    {
     "name": "stdout",
     "output_type": "stream",
     "text": [
      "\n",
      "Country: Ireland\n",
      "Maximum Stringency Index: 91.8\n",
      "Number of days to reach max stringency index: 96\n",
      "Area under the curve before peak 1918.310\n"
     ]
    },
    {
     "data": {
      "image/png": "[encoded data removed]",
      "text/plain": [
       "<Figure size 432x288 with 1 Axes>"
      ]
     },
     "metadata": {
      "needs_background": "light"
     },
     "output_type": "display_data"
    },
    {
     "name": "stdout",
     "output_type": "stream",
     "text": [
      "\n",
      "Country: Israel\n",
      "Maximum Stringency Index: 96.03\n",
      "Number of days to reach max stringency index: 98\n",
      "Area under the curve before peak 3049.080\n"
     ]
    },
    {
     "data": {
      "image/png": "[encoded data removed]",
      "text/plain": [
       "<Figure size 432x288 with 1 Axes>"
      ]
     },
     "metadata": {
      "needs_background": "light"
     },
     "output_type": "display_data"
    },
    {
     "name": "stdout",
     "output_type": "stream",
     "text": [
      "\n",
      "Country: Italy\n",
      "Maximum Stringency Index: 94.58\n",
      "Number of days to reach max stringency index: 81\n",
      "Area under the curve before peak 2574.845\n"
     ]
    },
    {
     "data": {
      "image/png": "[encoded data removed]",
      "text/plain": [
       "<Figure size 432x288 with 1 Axes>"
      ]
     },
     "metadata": {
      "needs_background": "light"
     },
     "output_type": "display_data"
    },
    {
     "name": "stdout",
     "output_type": "stream",
     "text": [
      "\n",
      "Country: Japan\n",
      "Maximum Stringency Index: 51.18\n",
      "Number of days to reach max stringency index: 93\n",
      "Area under the curve before peak 2171.500\n"
     ]
    },
    {
     "data": {
      "image/png": "[encoded data removed]",
      "text/plain": [
       "<Figure size 432x288 with 1 Axes>"
      ]
     },
     "metadata": {
      "needs_background": "light"
     },
     "output_type": "display_data"
    },
    {
     "name": "stdout",
     "output_type": "stream",
     "text": [
      "\n",
      "Country: Mexico\n",
      "Maximum Stringency Index: 88.62\n",
      "Number of days to reach max stringency index: 108\n",
      "Area under the curve before peak 2058.225\n"
     ]
    },
    {
     "data": {
      "image/png": "[encoded data removed]",
      "text/plain": [
       "<Figure size 432x288 with 1 Axes>"
      ]
     },
     "metadata": {
      "needs_background": "light"
     },
     "output_type": "display_data"
    },
    {
     "name": "stdout",
     "output_type": "stream",
     "text": [
      "\n",
      "Country: Netherlands\n",
      "Maximum Stringency Index: 84.65\n",
      "Number of days to reach max stringency index: 90\n",
      "Area under the curve before peak 1351.515\n"
     ]
    },
    {
     "data": {
      "image/png": "[encoded data removed]",
      "text/plain": [
       "<Figure size 432x288 with 1 Axes>"
      ]
     },
     "metadata": {
      "needs_background": "light"
     },
     "output_type": "display_data"
    },
    {
     "name": "stdout",
     "output_type": "stream",
     "text": [
      "\n",
      "Country: Pakistan\n",
      "Maximum Stringency Index: 97.35\n",
      "Number of days to reach max stringency index: 108\n",
      "Area under the curve before peak 3627.395\n"
     ]
    },
    {
     "data": {
      "image/png": "[encoded data removed]",
      "text/plain": [
       "<Figure size 432x288 with 1 Axes>"
      ]
     },
     "metadata": {
      "needs_background": "light"
     },
     "output_type": "display_data"
    },
    {
     "name": "stdout",
     "output_type": "stream",
     "text": [
      "\n",
      "Country: Panama\n",
      "Maximum Stringency Index: 83.6\n",
      "Number of days to reach max stringency index: 79\n",
      "Area under the curve before peak 846.740\n"
     ]
    },
    {
     "data": {
      "image/png": "[encoded data removed]",
      "text/plain": [
       "<Figure size 432x288 with 1 Axes>"
      ]
     },
     "metadata": {
      "needs_background": "light"
     },
     "output_type": "display_data"
    },
    {
     "name": "stdout",
     "output_type": "stream",
     "text": [
      "\n",
      "Country: Portugal\n",
      "Maximum Stringency Index: 90.61\n",
      "Number of days to reach max stringency index: 100\n",
      "Area under the curve before peak 2658.215\n"
     ]
    },
    {
     "data": {
      "image/png": "[encoded data removed]",
      "text/plain": [
       "<Figure size 432x288 with 1 Axes>"
      ]
     },
     "metadata": {
      "needs_background": "light"
     },
     "output_type": "display_data"
    },
    {
     "name": "stdout",
     "output_type": "stream",
     "text": [
      "\n",
      "Country: Puerto Rico\n",
      "Maximum Stringency Index: 100.0\n",
      "Number of days to reach max stringency index: 80\n",
      "Area under the curve before peak 716.230\n"
     ]
    },
    {
     "data": {
      "image/png": "[encoded data removed]",
      "text/plain": [
       "<Figure size 432x288 with 1 Axes>"
      ]
     },
     "metadata": {
      "needs_background": "light"
     },
     "output_type": "display_data"
    },
    {
     "name": "stdout",
     "output_type": "stream",
     "text": [
      "\n",
      "Country: Qatar\n",
      "Maximum Stringency Index: 91.54\n",
      "Number of days to reach max stringency index: 115\n",
      "Area under the curve before peak 4257.730\n"
     ]
    },
    {
     "data": {
      "image/png": "[encoded data removed]",
      "text/plain": [
       "<Figure size 432x288 with 1 Axes>"
      ]
     },
     "metadata": {
      "needs_background": "light"
     },
     "output_type": "display_data"
    },
    {
     "name": "stdout",
     "output_type": "stream",
     "text": [
      "\n",
      "Country: Russia\n",
      "Maximum Stringency Index: 92.86\n",
      "Number of days to reach max stringency index: 101\n",
      "Area under the curve before peak 2358.890\n"
     ]
    },
    {
     "data": {
      "image/png": "[encoded data removed]",
      "text/plain": [
       "<Figure size 432x288 with 1 Axes>"
      ]
     },
     "metadata": {
      "needs_background": "light"
     },
     "output_type": "display_data"
    },
    {
     "name": "stdout",
     "output_type": "stream",
     "text": [
      "\n",
      "Country: Saudi Arabia\n",
      "Maximum Stringency Index: 94.18\n",
      "Number of days to reach max stringency index: 83\n",
      "Area under the curve before peak 1253.595\n"
     ]
    },
    {
     "data": {
      "image/png": "[encoded data removed]",
      "text/plain": [
       "<Figure size 432x288 with 1 Axes>"
      ]
     },
     "metadata": {
      "needs_background": "light"
     },
     "output_type": "display_data"
    },
    {
     "name": "stdout",
     "output_type": "stream",
     "text": [
      "\n",
      "Country: Singapore\n",
      "Maximum Stringency Index: 87.83\n",
      "Number of days to reach max stringency index: 116\n",
      "Area under the curve before peak 4093.535\n"
     ]
    },
    {
     "data": {
      "image/png": "[encoded data removed]",
      "text/plain": [
       "<Figure size 432x288 with 1 Axes>"
      ]
     },
     "metadata": {
      "needs_background": "light"
     },
     "output_type": "display_data"
    },
    {
     "name": "stdout",
     "output_type": "stream",
     "text": [
      "\n",
      "Country: Switzerland\n",
      "Maximum Stringency Index: 79.49\n",
      "Number of days to reach max stringency index: 76\n",
      "Area under the curve before peak 562.270\n"
     ]
    },
    {
     "data": {
      "image/png": "[encoded data removed]",
      "text/plain": [
       "<Figure size 432x288 with 1 Axes>"
      ]
     },
     "metadata": {
      "needs_background": "light"
     },
     "output_type": "display_data"
    },
    {
     "name": "stdout",
     "output_type": "stream",
     "text": [
      "\n",
      "Country: Turkey\n",
      "Maximum Stringency Index: 80.42\n",
      "Number of days to reach max stringency index: 87\n",
      "Area under the curve before peak 1573.240\n"
     ]
    },
    {
     "data": {
      "image/png": "[encoded data removed]",
      "text/plain": [
       "<Figure size 432x288 with 1 Axes>"
      ]
     },
     "metadata": {
      "needs_background": "light"
     },
     "output_type": "display_data"
    },
    {
     "name": "stdout",
     "output_type": "stream",
     "text": [
      "\n",
      "Country: United Kingdom\n",
      "Maximum Stringency Index: 82.27\n",
      "Number of days to reach max stringency index: 85\n",
      "Area under the curve before peak 844.635\n"
     ]
    },
    {
     "data": {
      "image/png": "[encoded data removed]",
      "text/plain": [
       "<Figure size 432x288 with 1 Axes>"
      ]
     },
     "metadata": {
      "needs_background": "light"
     },
     "output_type": "display_data"
    },
    {
     "name": "stdout",
     "output_type": "stream",
     "text": [
      "\n",
      "Country: United States\n",
      "Maximum Stringency Index: 71.58\n",
      "Number of days to reach max stringency index: 98\n",
      "Area under the curve before peak 1967.265\n"
     ]
    },
    {
     "data": {
      "image/png": "[encoded data removed]",
      "text/plain": [
       "<Figure size 432x288 with 1 Axes>"
      ]
     },
     "metadata": {
      "needs_background": "light"
     },
     "output_type": "display_data"
    }
   ],
   "source": [
    "political_indicator = pd.DataFrame(columns=['Country Name', 'Max_stringency_index', 'Days_to_reach_peak', 'Area_before_peak'])\n",
    "\n",
    "for i in range(len(countries_30)):\n",
    "    country = countries_30.iloc[i]['Country Name']\n",
    "    csi_max = csi.loc[country]['Government Response Stringency Index ((0 to 100, 100 = strictest))'].max()\n",
    "    days = []\n",
    "    for x in range(len(csi)):\n",
    "        if csi.iloc[x]['Government Response Stringency Index ((0 to 100, 100 = strictest))'] == csi_max:\n",
    "            days.append(csi.iloc[x]['Daysafter'])\n",
    "    print(\"\\nCountry:\", country) \n",
    "    print(\"Maximum Stringency Index:\", csi_max)\n",
    "    print(\"Number of days to reach max stringency index:\", days[0])\n",
    "    \n",
    "     # Calculate the area under the curve from day0 to the day that reached maximum index\n",
    "    from sklearn import metrics\n",
    "    c = csi.loc[country]\n",
    "    x_metrics = c[\"Daysafter\"][ c[\"Daysafter\"] < days[0] ]  \n",
    "    y_metrics = []\n",
    "    for j in range(days[0]):\n",
    "         y_metrics.append(c.iloc[j]['Government Response Stringency Index ((0 to 100, 100 = strictest))'])\n",
    "    area = metrics.auc(x_metrics, y_metrics)\n",
    "    print(\"Area under the curve before peak {:.3f}\".format(area))\n",
    "    \n",
    "    # Plot and fill in the area under the curve from day0 to the day that reached maximum index\n",
    "    x = csi.loc[country]['Daysafter']\n",
    "    y = csi.loc[country]['Government Response Stringency Index ((0 to 100, 100 = strictest))']\n",
    "    plt.plot(x, y)\n",
    "    plt.fill_between(x, y, where = [(x >= 0) and (x <= days[0]) for x in x], color=\"tomato\")\n",
    "    plt.show()\n",
    "    \n",
    "    # Append to the dataframe\n",
    "    political_indicator = political_indicator.append({'Country Name': country, 'Max_stringency_index': csi_max, 'Days_to_reach_peak': days[0], 'Area_before_peak': area}, ignore_index=True)\n",
    "\n",
    "    "
   ]
  },
  {
   "cell_type": "markdown",
   "metadata": {},
   "source": [
    "- Finding the maximum stringency index (peak) allows us to assess the government's response to the outbreak during each country's hardest times. A larger maximum stringency index means a higher intensity/rigor of a government's response.  \n",
    "- Finding the number of days to reach maximum stringency index indicates how long each country took to adjust its response to the maximum stringency. That number might also indicate the day when the country was hit by the virus the most. A higher number of days to reach maximum stringency index means the government took longer to adjust its response to maximum intensity or the country was hit later by the virus. \n",
    "- Computing the area under the curve from 01/01/2020 to peak allows us to quantitatively assess the overall timelissness and intensity of the government response. The area under the curve might have different interpretations based on when the outbreak happened in each country, as we will discuss later in the Conclusion section.\n",
    "\n",
    "Next, we will compute the rank correlation  of each political indicator and compare visually. "
   ]
  },
  {
   "cell_type": "markdown",
   "metadata": {},
   "source": [
    "## Compute the rank correlation of each political indicator and make a scatter plot"
   ]
  },
  {
   "cell_type": "code",
   "execution_count": 145,
   "metadata": {
    "scrolled": false
   },
   "outputs": [
    {
     "data": {
      "text/html": [
       "<div>\n",
       "<style scoped>\n",
       "    .dataframe tbody tr th:only-of-type {\n",
       "        vertical-align: middle;\n",
       "    }\n",
       "\n",
       "    .dataframe tbody tr th {\n",
       "        vertical-align: top;\n",
       "    }\n",
       "\n",
       "    .dataframe thead th {\n",
       "        text-align: right;\n",
       "    }\n",
       "</style>\n",
       "<table border=\"1\" class=\"dataframe\">\n",
       "  <thead>\n",
       "    <tr style=\"text-align: right;\">\n",
       "      <th></th>\n",
       "      <th>Country Name</th>\n",
       "      <th>Max_stringency_index</th>\n",
       "      <th>Days_to_reach_peak</th>\n",
       "      <th>Area_before_peak</th>\n",
       "      <th>Total cases per million</th>\n",
       "    </tr>\n",
       "  </thead>\n",
       "  <tbody>\n",
       "    <tr>\n",
       "      <td>0</td>\n",
       "      <td>Belgium</td>\n",
       "      <td>83.60</td>\n",
       "      <td>79</td>\n",
       "      <td>886.380</td>\n",
       "      <td>4084.173</td>\n",
       "    </tr>\n",
       "    <tr>\n",
       "      <td>1</td>\n",
       "      <td>Canada</td>\n",
       "      <td>76.73</td>\n",
       "      <td>91</td>\n",
       "      <td>1308.890</td>\n",
       "      <td>1325.176</td>\n",
       "    </tr>\n",
       "    <tr>\n",
       "      <td>2</td>\n",
       "      <td>China</td>\n",
       "      <td>71.45</td>\n",
       "      <td>55</td>\n",
       "      <td>2119.145</td>\n",
       "      <td>58.319</td>\n",
       "    </tr>\n",
       "    <tr>\n",
       "      <td>3</td>\n",
       "      <td>Costa Rica</td>\n",
       "      <td>81.61</td>\n",
       "      <td>117</td>\n",
       "      <td>3692.155</td>\n",
       "      <td>138.395</td>\n",
       "    </tr>\n",
       "    <tr>\n",
       "      <td>4</td>\n",
       "      <td>Cuba</td>\n",
       "      <td>83.07</td>\n",
       "      <td>107</td>\n",
       "      <td>2412.870</td>\n",
       "      <td>126.869</td>\n",
       "    </tr>\n",
       "  </tbody>\n",
       "</table>\n",
       "</div>"
      ],
      "text/plain": [
       "  Country Name  Max_stringency_index Days_to_reach_peak  Area_before_peak  \\\n",
       "0      Belgium                 83.60                 79           886.380   \n",
       "1       Canada                 76.73                 91          1308.890   \n",
       "2        China                 71.45                 55          2119.145   \n",
       "3   Costa Rica                 81.61                117          3692.155   \n",
       "4         Cuba                 83.07                107          2412.870   \n",
       "\n",
       "   Total cases per million  \n",
       "0                 4084.173  \n",
       "1                 1325.176  \n",
       "2                   58.319  \n",
       "3                  138.395  \n",
       "4                  126.869  "
      ]
     },
     "execution_count": 145,
     "metadata": {},
     "output_type": "execute_result"
    }
   ],
   "source": [
    "# Add the column \"Total cases per million\"\n",
    "political_indicator = pd.merge(political_indicator, total_per_million_selected, on=['Country Name'], how='inner')\n",
    "political_indicator.head()\n"
   ]
  },
  {
   "cell_type": "code",
   "execution_count": 162,
   "metadata": {
    "scrolled": true
   },
   "outputs": [
    {
     "name": "stdout",
     "output_type": "stream",
     "text": [
      "rank correlation between Max_stringency_index and total cases per million = -0.206\n"
     ]
    },
    {
     "data": {
      "image/png": "[encoded data removed]",
      "text/plain": [
       "<Figure size 432x288 with 1 Axes>"
      ]
     },
     "metadata": {
      "needs_background": "light"
     },
     "output_type": "display_data"
    },
    {
     "name": "stdout",
     "output_type": "stream",
     "text": [
      "rank correlation between Days_to_reach_peak and total cases per million = -0.020\n"
     ]
    },
    {
     "data": {
      "image/png": "[encoded data removed]",
      "text/plain": [
       "<Figure size 432x288 with 1 Axes>"
      ]
     },
     "metadata": {
      "needs_background": "light"
     },
     "output_type": "display_data"
    },
    {
     "name": "stdout",
     "output_type": "stream",
     "text": [
      "rank correlation between Area_before_peak and total cases per million =  0.033\n"
     ]
    },
    {
     "data": {
      "image/png": "[encoded data removed]",
      "text/plain": [
       "<Figure size 432x288 with 1 Axes>"
      ]
     },
     "metadata": {
      "needs_background": "light"
     },
     "output_type": "display_data"
    }
   ],
   "source": [
    "for col in political_indicator.columns[1:4]:\n",
    "    # Compute the rank correlation between each political indicator and \"Total cases per million\"\n",
    "    rank_corr = np.corrcoef(political_indicator[col].rank(), political_indicator['Total cases per million'].rank())[0][1]\n",
    "    print('rank correlation between', col, 'and total cases per million = % .3f' %rank_corr)\n",
    "    \n",
    "    # Create a scatter plot for each political indicator\n",
    "    plt.scatter(political_indicator[col],political_indicator['Total cases per million'])\n",
    "    plt.xlabel(col)\n",
    "    plt.ylabel(\"Total cases per million\")\n",
    "    plt.show()\n"
   ]
  },
  {
   "cell_type": "markdown",
   "metadata": {},
   "source": [
    "Looking at the scatter plots of all three indicators, there is no apparent relationship between any indicator with total cases per million. By computing the rank correlation, we found out that:\n",
    "1. The maximum stringency index and number of days to reach the peak are both negatively correlated with total cases per million. \n",
    "    - A more stringent government response is related to lower cases per million.   \n",
    "    - A country that took longer to reach the peak is more likely to have lower cases per million.   \n",
    "2. The area under the curve before peak is slightly positively correlated with total cases per million.\n",
    "    - A larger area means more stringent response and higher cases per million. \n",
    "    \n",
    "However, all three of the rank correlations are relatively low, which means the political indicators do not predict the spread of COVID-19 well."
   ]
  },
  {
   "cell_type": "markdown",
   "metadata": {},
   "source": [
    "# Part 3. Evaluation of significance"
   ]
  },
  {
   "cell_type": "markdown",
   "metadata": {},
   "source": [
    "Based on the analysis above, we found that GDP, Health_expenditure per_capita_2017, and 5-14 years_2015 are the three most influential indicator. Here, we conduct 1000 random permutations of total cases per million to evaluate each indicators significance."
   ]
  },
  {
   "cell_type": "code",
   "execution_count": 165,
   "metadata": {},
   "outputs": [],
   "source": [
    "cases = countries_all_factors['Total cases per million']\n",
    "def permuted_cases():\n",
    "    return np.random.permutation(cases.copy())"
   ]
  },
  {
   "cell_type": "markdown",
   "metadata": {},
   "source": [
    "Create 1000 permuattions of 'Total cases per million', and calculate and save the slope of the regression from the original data to the permuted 'Total cases per million' array."
   ]
  },
  {
   "cell_type": "code",
   "execution_count": 199,
   "metadata": {},
   "outputs": [
    {
     "data": {
      "image/png": "[encoded data removed]",
      "text/plain": [
       "<Figure size 432x288 with 1 Axes>"
      ]
     },
     "metadata": {
      "needs_background": "light"
     },
     "output_type": "display_data"
    }
   ],
   "source": [
    "array = ['GDP_2018', 'Health_expenditure per_capita_2017', '5-14 years_2015']\n",
    "permutations = np.zeros(shape=(1000,len(cases)))\n",
    "for c in range(1000):\n",
    "    permutations[c] = permuted_cases()\n",
    "\n",
    "slopes = np.zeros(1000)\n",
    "\n",
    "for i in range(1000):\n",
    "    slopes[i] = LinearRegression().fit(countries_all_factors[['GDP_2018']], permutations[i]).coef_ \n",
    "\n",
    "plt.hist(slopes)\n",
    "plt.title('Histogram of slopes of 1000 permuted cases vs. GDP')\n",
    "plt.xlabel('slope')\n",
    "plt.ylabel('count')\n",
    "plt.show()"
   ]
  },
  {
   "cell_type": "markdown",
   "metadata": {},
   "source": [
    "The actual slope of GDP vs. total cases per million is 0.037. Looking at the histogram above, we can see that there is no values above 0.03, so getting a 0.037 is very unlikely. This indicates that the actual slope is not a random chance; it is significant.\n"
   ]
  },
  {
   "cell_type": "code",
   "execution_count": 200,
   "metadata": {},
   "outputs": [
    {
     "data": {
      "image/png": "[encoded data removed]",
      "text/plain": [
       "<Figure size 432x288 with 1 Axes>"
      ]
     },
     "metadata": {
      "needs_background": "light"
     },
     "output_type": "display_data"
    }
   ],
   "source": [
    "permutations = np.zeros(shape=(1000,len(cases)))\n",
    "for c in range(1000):\n",
    "    permutations[c] = permuted_cases()\n",
    "\n",
    "slopes = np.zeros(1000)\n",
    "\n",
    "for i in range(1000):\n",
    "    slopes[i] = LinearRegression().fit(countries_all_factors[['Health_expenditure per_capita_2017']], permutations[i]).coef_ \n",
    "\n",
    "plt.hist(slopes)\n",
    "plt.title('Histogram of slopes of 1000 permuted cases vs. healthcare expenditure per capita')\n",
    "plt.xlabel('slope')\n",
    "plt.ylabel('count')\n",
    "plt.show()"
   ]
  },
  {
   "cell_type": "markdown",
   "metadata": {},
   "source": [
    "The actual slope of healthcare expenditure per capita vs. total cases per million is 0.323. Looking at the histogram above, we can see that there is no values above 0.3, so getting 0.323 is very unlikely. This indicates that the actual slope is not a random chance; it is significant."
   ]
  },
  {
   "cell_type": "code",
   "execution_count": 202,
   "metadata": {},
   "outputs": [
    {
     "data": {
      "image/png": "[encoded data removed]",
      "text/plain": [
       "<Figure size 432x288 with 1 Axes>"
      ]
     },
     "metadata": {
      "needs_background": "light"
     },
     "output_type": "display_data"
    }
   ],
   "source": [
    "permutations = np.zeros(shape=(1000,len(cases)))\n",
    "for c in range(1000):\n",
    "    permutations[c] = permuted_cases()\n",
    "\n",
    "slopes = np.zeros(1000)\n",
    "\n",
    "for i in range(1000):\n",
    "    slopes[i] = LinearRegression().fit(countries_all_factors[['5-14 years_2015']], permutations[i]).coef_ \n",
    "\n",
    "plt.hist(slopes)\n",
    "plt.title('Histogram of slopes of 1000 permuted cases vs. 5-14 years age group')\n",
    "plt.xlabel('slope')\n",
    "plt.ylabel('count')\n",
    "plt.show()"
   ]
  },
  {
   "cell_type": "markdown",
   "metadata": {},
   "source": [
    "The actual slope of 5-14 years age group vs. total cases per million is -18382. Looking at the histogram above, we can see that there is no values below -16000, so getting a -18382 is very unlikely. This indicates that the actual slope is not a random chance; it is significant."
   ]
  },
  {
   "cell_type": "markdown",
   "metadata": {},
   "source": [
    "# Conclusion"
   ]
  },
  {
   "cell_type": "markdown",
   "metadata": {},
   "source": [
    "In conclusion, we have findings contradictory to our prior knowledge in both socio-economic and political sectors. \n",
    "\n",
    "For socioeconomic sector, we expected age demographics to be the primary factor affecting number of confirmed cases because older people are at higher risk contrasting covid-19. Through comparing across the indicators we learned that age demographic indeed is an affecting factor, however, GDP and healthcare expenditure per capita have not only more but also positive impact on the spread of covid-19. This means in this pandemic, countries that score lower on key socio-economic and healthcare indicators have contained the covid-19 quicker than those who score high in economic output and medical preparedness. In turn, this indicates the lack of persuasiveness of these factors to reflect a nation’s strength under a structural barrier like this pandemic. \n",
    "\n",
    "\n",
    "For political sector, we learned that the Government Response Stringency Index that records the number and strictness of government policies does not necessarily reflect effectiveness in containing the spread of covid-19. In fact, it is not that government response does not matter but rather our attempt to quantify government effectiveness fails. We could attribute this failure to 2 factors. One is how we, although tried to reflect, but still have understated the importance of timeliness of government response. This is the case when timeliness of response is so vital that it is much more difficult for a country to contain number of confirmed cases if they missed the golden period of reaction, even when they used much stricter policies later on (ie. Qatar and U.S.). The other factor that is not reflected through our data is strong leadership of a government—an almost unquantifiable factor, The quick action that many developing countries’ leaders took to contain the virus made them less vulnerable to the pandemic than some have thought. This leads us to ponder about the significance of strong leadership and a nation’s cohesive strength in the face of international calamity. How to improve a government’s strength to take decisive and quick actions to overcome structural barriers is a matter of great importance to explore in future analysis."
   ]
  },
  {
   "cell_type": "markdown",
   "metadata": {},
   "source": [
    "# Source Code"
   ]
  },
  {
   "cell_type": "markdown",
   "metadata": {},
   "source": [
    "link to github repository of data collection and clenaing process:  \n",
    "https://github.com/gracehan1234/INFO2950-Project/tree/master/INFO2950-Project-master-iris"
   ]
  },
  {
   "cell_type": "markdown",
   "metadata": {},
   "source": [
    "# Acknowledgment "
   ]
  },
  {
   "cell_type": "markdown",
   "metadata": {},
   "source": [
    "Lastly, we would like to express our special gratitude to:\n",
    "- Prof. Mimno for his professional guidance, patience, support, and technical assistance, especially on converting dates to number of days after a timestamp\n",
    "- TA Irena and Gregory for their technical assistance on data collection and cleaning/filtering\n",
    "- our project mentor Adeyemi Oyemade for guidance and assistance in providing helpful feedbacks and advice\n",
    "- stackoverflow questions on computing the area under the curve \n",
    "- data scientists all over the world for their efforts on creating datasets and models to help us analyze the spread of COVID-19\n",
    "    "
   ]
  }
 ],
 "metadata": {
  "kernelspec": {
   "display_name": "Python 3",
   "language": "python",
   "name": "python3"
  },
  "language_info": {
   "codemirror_mode": {
    "name": "ipython",
    "version": 3
   },
   "file_extension": ".py",
   "mimetype": "text/x-python",
   "name": "python",
   "nbconvert_exporter": "python",
   "pygments_lexer": "ipython3",
   "version": "3.7.4"
  }
 },
 "nbformat": 4,
 "nbformat_minor": 2
}
